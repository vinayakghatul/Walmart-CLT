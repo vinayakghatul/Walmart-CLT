{
  "cells": [
    {
      "cell_type": "markdown",
      "metadata": {
        "id": "view-in-github",
        "colab_type": "text"
      },
      "source": [
        "<a href=\"https://colab.research.google.com/github/vinayakghatul/Walmart-CLT/blob/main/Case_study_walmart_CLT.ipynb\" target=\"_parent\"><img src=\"https://colab.research.google.com/assets/colab-badge.svg\" alt=\"Open In Colab\"/></a>"
      ]
    },
    {
      "cell_type": "code",
      "execution_count": null,
      "id": "419cf1f7-04dc-4457-adb5-46363972eb35",
      "metadata": {
        "id": "419cf1f7-04dc-4457-adb5-46363972eb35"
      },
      "outputs": [],
      "source": [
        "import pandas as pd\n",
        "import numpy as np"
      ]
    },
    {
      "cell_type": "code",
      "execution_count": null,
      "id": "b3405827-4f53-4a3e-b5d6-4c604ee00608",
      "metadata": {
        "id": "b3405827-4f53-4a3e-b5d6-4c604ee00608"
      },
      "outputs": [],
      "source": [
        "df = pd.read_csv('walmart.csv')"
      ]
    },
    {
      "cell_type": "code",
      "execution_count": null,
      "id": "4d390c13-05f3-44e6-8690-1bd62abab1fe",
      "metadata": {
        "id": "4d390c13-05f3-44e6-8690-1bd62abab1fe",
        "outputId": "9b67ae31-9de4-4f44-c251-92b91b6a89f8"
      },
      "outputs": [
        {
          "data": {
            "text/html": [
              "<div>\n",
              "<style scoped>\n",
              "    .dataframe tbody tr th:only-of-type {\n",
              "        vertical-align: middle;\n",
              "    }\n",
              "\n",
              "    .dataframe tbody tr th {\n",
              "        vertical-align: top;\n",
              "    }\n",
              "\n",
              "    .dataframe thead th {\n",
              "        text-align: right;\n",
              "    }\n",
              "</style>\n",
              "<table border=\"1\" class=\"dataframe\">\n",
              "  <thead>\n",
              "    <tr style=\"text-align: right;\">\n",
              "      <th></th>\n",
              "      <th>User_ID</th>\n",
              "      <th>Product_ID</th>\n",
              "      <th>Gender</th>\n",
              "      <th>Age</th>\n",
              "      <th>Occupation</th>\n",
              "      <th>City_Category</th>\n",
              "      <th>Stay_In_Current_City_Years</th>\n",
              "      <th>Marital_Status</th>\n",
              "      <th>Product_Category</th>\n",
              "      <th>Purchase</th>\n",
              "    </tr>\n",
              "  </thead>\n",
              "  <tbody>\n",
              "    <tr>\n",
              "      <th>0</th>\n",
              "      <td>1000001</td>\n",
              "      <td>P00069042</td>\n",
              "      <td>F</td>\n",
              "      <td>0-17</td>\n",
              "      <td>10</td>\n",
              "      <td>A</td>\n",
              "      <td>2</td>\n",
              "      <td>0</td>\n",
              "      <td>3</td>\n",
              "      <td>8370</td>\n",
              "    </tr>\n",
              "    <tr>\n",
              "      <th>1</th>\n",
              "      <td>1000001</td>\n",
              "      <td>P00248942</td>\n",
              "      <td>F</td>\n",
              "      <td>0-17</td>\n",
              "      <td>10</td>\n",
              "      <td>A</td>\n",
              "      <td>2</td>\n",
              "      <td>0</td>\n",
              "      <td>1</td>\n",
              "      <td>15200</td>\n",
              "    </tr>\n",
              "    <tr>\n",
              "      <th>2</th>\n",
              "      <td>1000001</td>\n",
              "      <td>P00087842</td>\n",
              "      <td>F</td>\n",
              "      <td>0-17</td>\n",
              "      <td>10</td>\n",
              "      <td>A</td>\n",
              "      <td>2</td>\n",
              "      <td>0</td>\n",
              "      <td>12</td>\n",
              "      <td>1422</td>\n",
              "    </tr>\n",
              "    <tr>\n",
              "      <th>3</th>\n",
              "      <td>1000001</td>\n",
              "      <td>P00085442</td>\n",
              "      <td>F</td>\n",
              "      <td>0-17</td>\n",
              "      <td>10</td>\n",
              "      <td>A</td>\n",
              "      <td>2</td>\n",
              "      <td>0</td>\n",
              "      <td>12</td>\n",
              "      <td>1057</td>\n",
              "    </tr>\n",
              "    <tr>\n",
              "      <th>4</th>\n",
              "      <td>1000002</td>\n",
              "      <td>P00285442</td>\n",
              "      <td>M</td>\n",
              "      <td>55+</td>\n",
              "      <td>16</td>\n",
              "      <td>C</td>\n",
              "      <td>4+</td>\n",
              "      <td>0</td>\n",
              "      <td>8</td>\n",
              "      <td>7969</td>\n",
              "    </tr>\n",
              "  </tbody>\n",
              "</table>\n",
              "</div>"
            ],
            "text/plain": [
              "   User_ID Product_ID Gender   Age  Occupation City_Category  \\\n",
              "0  1000001  P00069042      F  0-17          10             A   \n",
              "1  1000001  P00248942      F  0-17          10             A   \n",
              "2  1000001  P00087842      F  0-17          10             A   \n",
              "3  1000001  P00085442      F  0-17          10             A   \n",
              "4  1000002  P00285442      M   55+          16             C   \n",
              "\n",
              "  Stay_In_Current_City_Years  Marital_Status  Product_Category  Purchase  \n",
              "0                          2               0                 3      8370  \n",
              "1                          2               0                 1     15200  \n",
              "2                          2               0                12      1422  \n",
              "3                          2               0                12      1057  \n",
              "4                         4+               0                 8      7969  "
            ]
          },
          "execution_count": 3,
          "metadata": {},
          "output_type": "execute_result"
        }
      ],
      "source": [
        "df.head()"
      ]
    },
    {
      "cell_type": "code",
      "execution_count": null,
      "id": "374f2722-0e01-4786-a83b-5a6d2f0bf6c2",
      "metadata": {
        "id": "374f2722-0e01-4786-a83b-5a6d2f0bf6c2",
        "outputId": "9ddcad61-7ae3-4b60-98f8-38732c6ad457"
      },
      "outputs": [
        {
          "name": "stdout",
          "output_type": "stream",
          "text": [
            "<class 'pandas.core.frame.DataFrame'>\n",
            "RangeIndex: 550068 entries, 0 to 550067\n",
            "Data columns (total 10 columns):\n",
            " #   Column                      Non-Null Count   Dtype \n",
            "---  ------                      --------------   ----- \n",
            " 0   User_ID                     550068 non-null  int64 \n",
            " 1   Product_ID                  550068 non-null  object\n",
            " 2   Gender                      550068 non-null  object\n",
            " 3   Age                         550068 non-null  object\n",
            " 4   Occupation                  550068 non-null  int64 \n",
            " 5   City_Category               550068 non-null  object\n",
            " 6   Stay_In_Current_City_Years  550068 non-null  object\n",
            " 7   Marital_Status              550068 non-null  int64 \n",
            " 8   Product_Category            550068 non-null  int64 \n",
            " 9   Purchase                    550068 non-null  int64 \n",
            "dtypes: int64(5), object(5)\n",
            "memory usage: 42.0+ MB\n"
          ]
        }
      ],
      "source": [
        "df.info()"
      ]
    },
    {
      "cell_type": "code",
      "execution_count": null,
      "id": "45bda1ac-3044-4fd9-bf83-260baf96e62d",
      "metadata": {
        "id": "45bda1ac-3044-4fd9-bf83-260baf96e62d",
        "outputId": "f33a5b8e-3835-42ee-889f-3b7b9b3df4a8"
      },
      "outputs": [
        {
          "data": {
            "text/plain": [
              "(550068, 10)"
            ]
          },
          "execution_count": 5,
          "metadata": {},
          "output_type": "execute_result"
        }
      ],
      "source": [
        "df.shape"
      ]
    },
    {
      "cell_type": "code",
      "execution_count": null,
      "id": "a2439a46-f347-4513-8e02-5d8e446cac92",
      "metadata": {
        "id": "a2439a46-f347-4513-8e02-5d8e446cac92",
        "outputId": "4acc7ca6-b403-4f0a-981f-e51767875940"
      },
      "outputs": [
        {
          "data": {
            "text/plain": [
              "User_ID                       0\n",
              "Product_ID                    0\n",
              "Gender                        0\n",
              "Age                           0\n",
              "Occupation                    0\n",
              "City_Category                 0\n",
              "Stay_In_Current_City_Years    0\n",
              "Marital_Status                0\n",
              "Product_Category              0\n",
              "Purchase                      0\n",
              "dtype: int64"
            ]
          },
          "execution_count": 6,
          "metadata": {},
          "output_type": "execute_result"
        }
      ],
      "source": [
        "df.isnull().sum()"
      ]
    },
    {
      "cell_type": "code",
      "execution_count": null,
      "id": "b64d2d95-3943-4b08-855f-4567207327d2",
      "metadata": {
        "id": "b64d2d95-3943-4b08-855f-4567207327d2",
        "outputId": "c67d46b0-6058-4bac-dfbb-c3670356f0b1"
      },
      "outputs": [
        {
          "data": {
            "text/plain": [
              "array(['0-17', '55+', '26-35', '46-50', '51-55', '36-45', '18-25'],\n",
              "      dtype=object)"
            ]
          },
          "execution_count": 7,
          "metadata": {},
          "output_type": "execute_result"
        }
      ],
      "source": [
        "df['Age'].unique()"
      ]
    },
    {
      "cell_type": "code",
      "execution_count": null,
      "id": "35024fe8-a591-4744-9c57-ebab02d3eeb4",
      "metadata": {
        "id": "35024fe8-a591-4744-9c57-ebab02d3eeb4",
        "outputId": "e3091dc9-a254-4b60-9715-8cb131c463d7"
      },
      "outputs": [
        {
          "data": {
            "text/plain": [
              "array([10, 16, 15,  7, 20,  9,  1, 12, 17,  0,  3,  4, 11,  8, 19,  2, 18,\n",
              "        5, 14, 13,  6])"
            ]
          },
          "execution_count": 8,
          "metadata": {},
          "output_type": "execute_result"
        }
      ],
      "source": [
        "df['Occupation'].unique()"
      ]
    },
    {
      "cell_type": "code",
      "execution_count": null,
      "id": "e50a007f-06a1-4858-b59f-80aa44245ce4",
      "metadata": {
        "id": "e50a007f-06a1-4858-b59f-80aa44245ce4",
        "outputId": "868f4b2f-88f2-4fe1-a016-d556f5d60e0b"
      },
      "outputs": [
        {
          "data": {
            "text/plain": [
              "array(['A', 'C', 'B'], dtype=object)"
            ]
          },
          "execution_count": 9,
          "metadata": {},
          "output_type": "execute_result"
        }
      ],
      "source": [
        "df['City_Category'].unique()"
      ]
    },
    {
      "cell_type": "code",
      "execution_count": null,
      "id": "ee7eea69-8c99-4f7b-867f-2bedccc1277a",
      "metadata": {
        "id": "ee7eea69-8c99-4f7b-867f-2bedccc1277a",
        "outputId": "a7cdc9f5-e245-4ead-dbd2-eb8960b43b32"
      },
      "outputs": [
        {
          "data": {
            "text/plain": [
              "array(['2', '4+', '3', '1', '0'], dtype=object)"
            ]
          },
          "execution_count": 10,
          "metadata": {},
          "output_type": "execute_result"
        }
      ],
      "source": [
        "df['Stay_In_Current_City_Years'].unique()"
      ]
    },
    {
      "cell_type": "code",
      "execution_count": null,
      "id": "e25583d1-2767-4eee-922c-576801da43d5",
      "metadata": {
        "id": "e25583d1-2767-4eee-922c-576801da43d5",
        "outputId": "001272fb-678c-4c50-ae15-e643eb5fadf0"
      },
      "outputs": [
        {
          "data": {
            "text/plain": [
              "array([0, 1])"
            ]
          },
          "execution_count": 11,
          "metadata": {},
          "output_type": "execute_result"
        }
      ],
      "source": [
        "df['Marital_Status'].unique()"
      ]
    },
    {
      "cell_type": "code",
      "execution_count": null,
      "id": "cb7023cd-4e5f-487a-af17-1e5ea714521e",
      "metadata": {
        "id": "cb7023cd-4e5f-487a-af17-1e5ea714521e",
        "outputId": "14cae564-f354-4f02-dbdf-9b2df2169029"
      },
      "outputs": [
        {
          "data": {
            "text/plain": [
              "array([ 3,  1, 12,  8,  5,  4,  2,  6, 14, 11, 13, 15,  7, 16, 18, 10, 17,\n",
              "        9, 20, 19])"
            ]
          },
          "execution_count": 12,
          "metadata": {},
          "output_type": "execute_result"
        }
      ],
      "source": [
        "df['Product_Category'].unique()"
      ]
    },
    {
      "cell_type": "code",
      "execution_count": null,
      "id": "3078d110-eb4c-4095-8eca-4420d1a77553",
      "metadata": {
        "id": "3078d110-eb4c-4095-8eca-4420d1a77553",
        "outputId": "b709c1ed-b9dc-4f31-ac18-0e0499772ee6"
      },
      "outputs": [
        {
          "data": {
            "text/plain": [
              "12"
            ]
          },
          "execution_count": 13,
          "metadata": {},
          "output_type": "execute_result"
        }
      ],
      "source": [
        "df['Purchase'].min()"
      ]
    },
    {
      "cell_type": "code",
      "execution_count": null,
      "id": "467a368e-1563-4bb3-ba4f-c66186294d8f",
      "metadata": {
        "id": "467a368e-1563-4bb3-ba4f-c66186294d8f",
        "outputId": "b65d5af6-bac2-45af-f936-8a96471f3ee4"
      },
      "outputs": [
        {
          "data": {
            "text/plain": [
              "23961"
            ]
          },
          "execution_count": 14,
          "metadata": {},
          "output_type": "execute_result"
        }
      ],
      "source": [
        "df['Purchase'].max()"
      ]
    },
    {
      "cell_type": "code",
      "execution_count": null,
      "id": "a45861b3-7c32-48c6-aeb5-7c0a7338fa58",
      "metadata": {
        "id": "a45861b3-7c32-48c6-aeb5-7c0a7338fa58",
        "outputId": "d0b104ef-7046-49e4-93b3-ed9741c7f055"
      },
      "outputs": [
        {
          "data": {
            "text/html": [
              "<div>\n",
              "<style scoped>\n",
              "    .dataframe tbody tr th:only-of-type {\n",
              "        vertical-align: middle;\n",
              "    }\n",
              "\n",
              "    .dataframe tbody tr th {\n",
              "        vertical-align: top;\n",
              "    }\n",
              "\n",
              "    .dataframe thead th {\n",
              "        text-align: right;\n",
              "    }\n",
              "</style>\n",
              "<table border=\"1\" class=\"dataframe\">\n",
              "  <thead>\n",
              "    <tr style=\"text-align: right;\">\n",
              "      <th></th>\n",
              "      <th>User_ID</th>\n",
              "      <th>Product_ID</th>\n",
              "      <th>Gender</th>\n",
              "      <th>Age</th>\n",
              "      <th>Occupation</th>\n",
              "      <th>City_Category</th>\n",
              "      <th>Stay_In_Current_City_Years</th>\n",
              "      <th>Marital_Status</th>\n",
              "      <th>Product_Category</th>\n",
              "      <th>Purchase</th>\n",
              "    </tr>\n",
              "  </thead>\n",
              "  <tbody>\n",
              "    <tr>\n",
              "      <th>count</th>\n",
              "      <td>5.500680e+05</td>\n",
              "      <td>550068</td>\n",
              "      <td>550068</td>\n",
              "      <td>550068</td>\n",
              "      <td>550068.000000</td>\n",
              "      <td>550068</td>\n",
              "      <td>550068</td>\n",
              "      <td>550068.000000</td>\n",
              "      <td>550068.000000</td>\n",
              "      <td>550068.000000</td>\n",
              "    </tr>\n",
              "    <tr>\n",
              "      <th>unique</th>\n",
              "      <td>NaN</td>\n",
              "      <td>3631</td>\n",
              "      <td>2</td>\n",
              "      <td>7</td>\n",
              "      <td>NaN</td>\n",
              "      <td>3</td>\n",
              "      <td>5</td>\n",
              "      <td>NaN</td>\n",
              "      <td>NaN</td>\n",
              "      <td>NaN</td>\n",
              "    </tr>\n",
              "    <tr>\n",
              "      <th>top</th>\n",
              "      <td>NaN</td>\n",
              "      <td>P00265242</td>\n",
              "      <td>M</td>\n",
              "      <td>26-35</td>\n",
              "      <td>NaN</td>\n",
              "      <td>B</td>\n",
              "      <td>1</td>\n",
              "      <td>NaN</td>\n",
              "      <td>NaN</td>\n",
              "      <td>NaN</td>\n",
              "    </tr>\n",
              "    <tr>\n",
              "      <th>freq</th>\n",
              "      <td>NaN</td>\n",
              "      <td>1880</td>\n",
              "      <td>414259</td>\n",
              "      <td>219587</td>\n",
              "      <td>NaN</td>\n",
              "      <td>231173</td>\n",
              "      <td>193821</td>\n",
              "      <td>NaN</td>\n",
              "      <td>NaN</td>\n",
              "      <td>NaN</td>\n",
              "    </tr>\n",
              "    <tr>\n",
              "      <th>mean</th>\n",
              "      <td>1.003029e+06</td>\n",
              "      <td>NaN</td>\n",
              "      <td>NaN</td>\n",
              "      <td>NaN</td>\n",
              "      <td>8.076707</td>\n",
              "      <td>NaN</td>\n",
              "      <td>NaN</td>\n",
              "      <td>0.409653</td>\n",
              "      <td>5.404270</td>\n",
              "      <td>9263.968713</td>\n",
              "    </tr>\n",
              "    <tr>\n",
              "      <th>std</th>\n",
              "      <td>1.727592e+03</td>\n",
              "      <td>NaN</td>\n",
              "      <td>NaN</td>\n",
              "      <td>NaN</td>\n",
              "      <td>6.522660</td>\n",
              "      <td>NaN</td>\n",
              "      <td>NaN</td>\n",
              "      <td>0.491770</td>\n",
              "      <td>3.936211</td>\n",
              "      <td>5023.065394</td>\n",
              "    </tr>\n",
              "    <tr>\n",
              "      <th>min</th>\n",
              "      <td>1.000001e+06</td>\n",
              "      <td>NaN</td>\n",
              "      <td>NaN</td>\n",
              "      <td>NaN</td>\n",
              "      <td>0.000000</td>\n",
              "      <td>NaN</td>\n",
              "      <td>NaN</td>\n",
              "      <td>0.000000</td>\n",
              "      <td>1.000000</td>\n",
              "      <td>12.000000</td>\n",
              "    </tr>\n",
              "    <tr>\n",
              "      <th>25%</th>\n",
              "      <td>1.001516e+06</td>\n",
              "      <td>NaN</td>\n",
              "      <td>NaN</td>\n",
              "      <td>NaN</td>\n",
              "      <td>2.000000</td>\n",
              "      <td>NaN</td>\n",
              "      <td>NaN</td>\n",
              "      <td>0.000000</td>\n",
              "      <td>1.000000</td>\n",
              "      <td>5823.000000</td>\n",
              "    </tr>\n",
              "    <tr>\n",
              "      <th>50%</th>\n",
              "      <td>1.003077e+06</td>\n",
              "      <td>NaN</td>\n",
              "      <td>NaN</td>\n",
              "      <td>NaN</td>\n",
              "      <td>7.000000</td>\n",
              "      <td>NaN</td>\n",
              "      <td>NaN</td>\n",
              "      <td>0.000000</td>\n",
              "      <td>5.000000</td>\n",
              "      <td>8047.000000</td>\n",
              "    </tr>\n",
              "    <tr>\n",
              "      <th>75%</th>\n",
              "      <td>1.004478e+06</td>\n",
              "      <td>NaN</td>\n",
              "      <td>NaN</td>\n",
              "      <td>NaN</td>\n",
              "      <td>14.000000</td>\n",
              "      <td>NaN</td>\n",
              "      <td>NaN</td>\n",
              "      <td>1.000000</td>\n",
              "      <td>8.000000</td>\n",
              "      <td>12054.000000</td>\n",
              "    </tr>\n",
              "    <tr>\n",
              "      <th>max</th>\n",
              "      <td>1.006040e+06</td>\n",
              "      <td>NaN</td>\n",
              "      <td>NaN</td>\n",
              "      <td>NaN</td>\n",
              "      <td>20.000000</td>\n",
              "      <td>NaN</td>\n",
              "      <td>NaN</td>\n",
              "      <td>1.000000</td>\n",
              "      <td>20.000000</td>\n",
              "      <td>23961.000000</td>\n",
              "    </tr>\n",
              "  </tbody>\n",
              "</table>\n",
              "</div>"
            ],
            "text/plain": [
              "             User_ID Product_ID  Gender     Age     Occupation City_Category  \\\n",
              "count   5.500680e+05     550068  550068  550068  550068.000000        550068   \n",
              "unique           NaN       3631       2       7            NaN             3   \n",
              "top              NaN  P00265242       M   26-35            NaN             B   \n",
              "freq             NaN       1880  414259  219587            NaN        231173   \n",
              "mean    1.003029e+06        NaN     NaN     NaN       8.076707           NaN   \n",
              "std     1.727592e+03        NaN     NaN     NaN       6.522660           NaN   \n",
              "min     1.000001e+06        NaN     NaN     NaN       0.000000           NaN   \n",
              "25%     1.001516e+06        NaN     NaN     NaN       2.000000           NaN   \n",
              "50%     1.003077e+06        NaN     NaN     NaN       7.000000           NaN   \n",
              "75%     1.004478e+06        NaN     NaN     NaN      14.000000           NaN   \n",
              "max     1.006040e+06        NaN     NaN     NaN      20.000000           NaN   \n",
              "\n",
              "       Stay_In_Current_City_Years  Marital_Status  Product_Category  \\\n",
              "count                      550068   550068.000000     550068.000000   \n",
              "unique                          5             NaN               NaN   \n",
              "top                             1             NaN               NaN   \n",
              "freq                       193821             NaN               NaN   \n",
              "mean                          NaN        0.409653          5.404270   \n",
              "std                           NaN        0.491770          3.936211   \n",
              "min                           NaN        0.000000          1.000000   \n",
              "25%                           NaN        0.000000          1.000000   \n",
              "50%                           NaN        0.000000          5.000000   \n",
              "75%                           NaN        1.000000          8.000000   \n",
              "max                           NaN        1.000000         20.000000   \n",
              "\n",
              "             Purchase  \n",
              "count   550068.000000  \n",
              "unique            NaN  \n",
              "top               NaN  \n",
              "freq              NaN  \n",
              "mean      9263.968713  \n",
              "std       5023.065394  \n",
              "min         12.000000  \n",
              "25%       5823.000000  \n",
              "50%       8047.000000  \n",
              "75%      12054.000000  \n",
              "max      23961.000000  "
            ]
          },
          "execution_count": 15,
          "metadata": {},
          "output_type": "execute_result"
        }
      ],
      "source": [
        "df.describe(include='all')"
      ]
    },
    {
      "cell_type": "code",
      "execution_count": null,
      "id": "0f9e1238-8228-4146-92f6-6f69626e8006",
      "metadata": {
        "id": "0f9e1238-8228-4146-92f6-6f69626e8006"
      },
      "outputs": [],
      "source": [
        "df2 = df"
      ]
    },
    {
      "cell_type": "code",
      "execution_count": null,
      "id": "9578a769-e24a-4ca0-ba49-5d2ecdf87cd3",
      "metadata": {
        "id": "9578a769-e24a-4ca0-ba49-5d2ecdf87cd3"
      },
      "outputs": [],
      "source": [
        "df2 = df2.drop(['User_ID','Product_ID'],axis=1)"
      ]
    },
    {
      "cell_type": "code",
      "execution_count": null,
      "id": "8f850a15-86b1-408f-9b8b-7ff13d85f00d",
      "metadata": {
        "id": "8f850a15-86b1-408f-9b8b-7ff13d85f00d",
        "outputId": "24dab90d-ad08-4e88-92c7-dc708bf4e00d"
      },
      "outputs": [
        {
          "data": {
            "text/html": [
              "<div>\n",
              "<style scoped>\n",
              "    .dataframe tbody tr th:only-of-type {\n",
              "        vertical-align: middle;\n",
              "    }\n",
              "\n",
              "    .dataframe tbody tr th {\n",
              "        vertical-align: top;\n",
              "    }\n",
              "\n",
              "    .dataframe thead th {\n",
              "        text-align: right;\n",
              "    }\n",
              "</style>\n",
              "<table border=\"1\" class=\"dataframe\">\n",
              "  <thead>\n",
              "    <tr style=\"text-align: right;\">\n",
              "      <th></th>\n",
              "      <th>Gender</th>\n",
              "      <th>Age</th>\n",
              "      <th>Occupation</th>\n",
              "      <th>City_Category</th>\n",
              "      <th>Stay_In_Current_City_Years</th>\n",
              "      <th>Marital_Status</th>\n",
              "      <th>Product_Category</th>\n",
              "      <th>Purchase</th>\n",
              "    </tr>\n",
              "  </thead>\n",
              "  <tbody>\n",
              "    <tr>\n",
              "      <th>0</th>\n",
              "      <td>F</td>\n",
              "      <td>0-17</td>\n",
              "      <td>10</td>\n",
              "      <td>A</td>\n",
              "      <td>2</td>\n",
              "      <td>0</td>\n",
              "      <td>3</td>\n",
              "      <td>8370</td>\n",
              "    </tr>\n",
              "    <tr>\n",
              "      <th>1</th>\n",
              "      <td>F</td>\n",
              "      <td>0-17</td>\n",
              "      <td>10</td>\n",
              "      <td>A</td>\n",
              "      <td>2</td>\n",
              "      <td>0</td>\n",
              "      <td>1</td>\n",
              "      <td>15200</td>\n",
              "    </tr>\n",
              "    <tr>\n",
              "      <th>2</th>\n",
              "      <td>F</td>\n",
              "      <td>0-17</td>\n",
              "      <td>10</td>\n",
              "      <td>A</td>\n",
              "      <td>2</td>\n",
              "      <td>0</td>\n",
              "      <td>12</td>\n",
              "      <td>1422</td>\n",
              "    </tr>\n",
              "    <tr>\n",
              "      <th>3</th>\n",
              "      <td>F</td>\n",
              "      <td>0-17</td>\n",
              "      <td>10</td>\n",
              "      <td>A</td>\n",
              "      <td>2</td>\n",
              "      <td>0</td>\n",
              "      <td>12</td>\n",
              "      <td>1057</td>\n",
              "    </tr>\n",
              "    <tr>\n",
              "      <th>4</th>\n",
              "      <td>M</td>\n",
              "      <td>55+</td>\n",
              "      <td>16</td>\n",
              "      <td>C</td>\n",
              "      <td>4+</td>\n",
              "      <td>0</td>\n",
              "      <td>8</td>\n",
              "      <td>7969</td>\n",
              "    </tr>\n",
              "  </tbody>\n",
              "</table>\n",
              "</div>"
            ],
            "text/plain": [
              "  Gender   Age  Occupation City_Category Stay_In_Current_City_Years  \\\n",
              "0      F  0-17          10             A                          2   \n",
              "1      F  0-17          10             A                          2   \n",
              "2      F  0-17          10             A                          2   \n",
              "3      F  0-17          10             A                          2   \n",
              "4      M   55+          16             C                         4+   \n",
              "\n",
              "   Marital_Status  Product_Category  Purchase  \n",
              "0               0                 3      8370  \n",
              "1               0                 1     15200  \n",
              "2               0                12      1422  \n",
              "3               0                12      1057  \n",
              "4               0                 8      7969  "
            ]
          },
          "execution_count": 18,
          "metadata": {},
          "output_type": "execute_result"
        }
      ],
      "source": [
        "df2.head()"
      ]
    },
    {
      "cell_type": "code",
      "execution_count": null,
      "id": "badb4849-1779-4347-a59a-093c72b7f231",
      "metadata": {
        "id": "badb4849-1779-4347-a59a-093c72b7f231",
        "outputId": "229b86e8-36e0-43d5-ab6b-b1bbb2796aa7"
      },
      "outputs": [
        {
          "data": {
            "text/plain": [
              "Gender                        object\n",
              "Age                           object\n",
              "Occupation                     int64\n",
              "City_Category                 object\n",
              "Stay_In_Current_City_Years    object\n",
              "Marital_Status                 int64\n",
              "Product_Category               int64\n",
              "Purchase                       int64\n",
              "dtype: object"
            ]
          },
          "execution_count": 19,
          "metadata": {},
          "output_type": "execute_result"
        }
      ],
      "source": [
        "df2.dtypes"
      ]
    },
    {
      "cell_type": "code",
      "execution_count": null,
      "id": "e1eee96e-b189-4807-98cc-41946bc7343c",
      "metadata": {
        "id": "e1eee96e-b189-4807-98cc-41946bc7343c"
      },
      "outputs": [],
      "source": [
        "import matplotlib.pyplot as plt\n",
        "import seaborn as sns"
      ]
    },
    {
      "cell_type": "markdown",
      "id": "395950ab-a664-4e88-8918-f5dd8c048466",
      "metadata": {
        "id": "395950ab-a664-4e88-8918-f5dd8c048466"
      },
      "source": [
        "#### Initial observations\n",
        "* Dataset does not contain any null values\n",
        "* Int and object dtypes present\n",
        "* Age is in age group bins, purchase amount has wide range with min as 12 and max as 23961."
      ]
    },
    {
      "cell_type": "code",
      "execution_count": null,
      "id": "09a02bf6-78ce-43a5-981c-f200e6fb95fd",
      "metadata": {
        "id": "09a02bf6-78ce-43a5-981c-f200e6fb95fd"
      },
      "outputs": [],
      "source": [
        "columns=['Occupation', 'Marital_Status', 'Product_Category']\n",
        "df2[columns]=df[columns].astype('object')"
      ]
    },
    {
      "cell_type": "code",
      "execution_count": null,
      "id": "7b086e1d-6768-49eb-b3c6-812077eab688",
      "metadata": {
        "id": "7b086e1d-6768-49eb-b3c6-812077eab688",
        "outputId": "e48ef22d-62b5-4b38-cc85-192ca61a0fc0"
      },
      "outputs": [
        {
          "data": {
            "text/html": [
              "<div>\n",
              "<style scoped>\n",
              "    .dataframe tbody tr th:only-of-type {\n",
              "        vertical-align: middle;\n",
              "    }\n",
              "\n",
              "    .dataframe tbody tr th {\n",
              "        vertical-align: top;\n",
              "    }\n",
              "\n",
              "    .dataframe thead th {\n",
              "        text-align: right;\n",
              "    }\n",
              "</style>\n",
              "<table border=\"1\" class=\"dataframe\">\n",
              "  <thead>\n",
              "    <tr style=\"text-align: right;\">\n",
              "      <th></th>\n",
              "      <th>Gender</th>\n",
              "      <th>Age</th>\n",
              "      <th>Occupation</th>\n",
              "      <th>City_Category</th>\n",
              "      <th>Stay_In_Current_City_Years</th>\n",
              "      <th>Marital_Status</th>\n",
              "      <th>Product_Category</th>\n",
              "      <th>Purchase</th>\n",
              "    </tr>\n",
              "  </thead>\n",
              "  <tbody>\n",
              "    <tr>\n",
              "      <th>count</th>\n",
              "      <td>550068</td>\n",
              "      <td>550068</td>\n",
              "      <td>550068.0</td>\n",
              "      <td>550068</td>\n",
              "      <td>550068</td>\n",
              "      <td>550068.0</td>\n",
              "      <td>550068.0</td>\n",
              "      <td>550068.000000</td>\n",
              "    </tr>\n",
              "    <tr>\n",
              "      <th>unique</th>\n",
              "      <td>2</td>\n",
              "      <td>7</td>\n",
              "      <td>21.0</td>\n",
              "      <td>3</td>\n",
              "      <td>5</td>\n",
              "      <td>2.0</td>\n",
              "      <td>20.0</td>\n",
              "      <td>NaN</td>\n",
              "    </tr>\n",
              "    <tr>\n",
              "      <th>top</th>\n",
              "      <td>M</td>\n",
              "      <td>26-35</td>\n",
              "      <td>4.0</td>\n",
              "      <td>B</td>\n",
              "      <td>1</td>\n",
              "      <td>0.0</td>\n",
              "      <td>5.0</td>\n",
              "      <td>NaN</td>\n",
              "    </tr>\n",
              "    <tr>\n",
              "      <th>freq</th>\n",
              "      <td>414259</td>\n",
              "      <td>219587</td>\n",
              "      <td>72308.0</td>\n",
              "      <td>231173</td>\n",
              "      <td>193821</td>\n",
              "      <td>324731.0</td>\n",
              "      <td>150933.0</td>\n",
              "      <td>NaN</td>\n",
              "    </tr>\n",
              "    <tr>\n",
              "      <th>mean</th>\n",
              "      <td>NaN</td>\n",
              "      <td>NaN</td>\n",
              "      <td>NaN</td>\n",
              "      <td>NaN</td>\n",
              "      <td>NaN</td>\n",
              "      <td>NaN</td>\n",
              "      <td>NaN</td>\n",
              "      <td>9263.968713</td>\n",
              "    </tr>\n",
              "    <tr>\n",
              "      <th>std</th>\n",
              "      <td>NaN</td>\n",
              "      <td>NaN</td>\n",
              "      <td>NaN</td>\n",
              "      <td>NaN</td>\n",
              "      <td>NaN</td>\n",
              "      <td>NaN</td>\n",
              "      <td>NaN</td>\n",
              "      <td>5023.065394</td>\n",
              "    </tr>\n",
              "    <tr>\n",
              "      <th>min</th>\n",
              "      <td>NaN</td>\n",
              "      <td>NaN</td>\n",
              "      <td>NaN</td>\n",
              "      <td>NaN</td>\n",
              "      <td>NaN</td>\n",
              "      <td>NaN</td>\n",
              "      <td>NaN</td>\n",
              "      <td>12.000000</td>\n",
              "    </tr>\n",
              "    <tr>\n",
              "      <th>25%</th>\n",
              "      <td>NaN</td>\n",
              "      <td>NaN</td>\n",
              "      <td>NaN</td>\n",
              "      <td>NaN</td>\n",
              "      <td>NaN</td>\n",
              "      <td>NaN</td>\n",
              "      <td>NaN</td>\n",
              "      <td>5823.000000</td>\n",
              "    </tr>\n",
              "    <tr>\n",
              "      <th>50%</th>\n",
              "      <td>NaN</td>\n",
              "      <td>NaN</td>\n",
              "      <td>NaN</td>\n",
              "      <td>NaN</td>\n",
              "      <td>NaN</td>\n",
              "      <td>NaN</td>\n",
              "      <td>NaN</td>\n",
              "      <td>8047.000000</td>\n",
              "    </tr>\n",
              "    <tr>\n",
              "      <th>75%</th>\n",
              "      <td>NaN</td>\n",
              "      <td>NaN</td>\n",
              "      <td>NaN</td>\n",
              "      <td>NaN</td>\n",
              "      <td>NaN</td>\n",
              "      <td>NaN</td>\n",
              "      <td>NaN</td>\n",
              "      <td>12054.000000</td>\n",
              "    </tr>\n",
              "    <tr>\n",
              "      <th>max</th>\n",
              "      <td>NaN</td>\n",
              "      <td>NaN</td>\n",
              "      <td>NaN</td>\n",
              "      <td>NaN</td>\n",
              "      <td>NaN</td>\n",
              "      <td>NaN</td>\n",
              "      <td>NaN</td>\n",
              "      <td>23961.000000</td>\n",
              "    </tr>\n",
              "  </tbody>\n",
              "</table>\n",
              "</div>"
            ],
            "text/plain": [
              "        Gender     Age  Occupation City_Category Stay_In_Current_City_Years  \\\n",
              "count   550068  550068    550068.0        550068                     550068   \n",
              "unique       2       7        21.0             3                          5   \n",
              "top          M   26-35         4.0             B                          1   \n",
              "freq    414259  219587     72308.0        231173                     193821   \n",
              "mean       NaN     NaN         NaN           NaN                        NaN   \n",
              "std        NaN     NaN         NaN           NaN                        NaN   \n",
              "min        NaN     NaN         NaN           NaN                        NaN   \n",
              "25%        NaN     NaN         NaN           NaN                        NaN   \n",
              "50%        NaN     NaN         NaN           NaN                        NaN   \n",
              "75%        NaN     NaN         NaN           NaN                        NaN   \n",
              "max        NaN     NaN         NaN           NaN                        NaN   \n",
              "\n",
              "        Marital_Status  Product_Category       Purchase  \n",
              "count         550068.0          550068.0  550068.000000  \n",
              "unique             2.0              20.0            NaN  \n",
              "top                0.0               5.0            NaN  \n",
              "freq          324731.0          150933.0            NaN  \n",
              "mean               NaN               NaN    9263.968713  \n",
              "std                NaN               NaN    5023.065394  \n",
              "min                NaN               NaN      12.000000  \n",
              "25%                NaN               NaN    5823.000000  \n",
              "50%                NaN               NaN    8047.000000  \n",
              "75%                NaN               NaN   12054.000000  \n",
              "max                NaN               NaN   23961.000000  "
            ]
          },
          "execution_count": 22,
          "metadata": {},
          "output_type": "execute_result"
        }
      ],
      "source": [
        "df2.describe(include='all')"
      ]
    },
    {
      "cell_type": "code",
      "execution_count": null,
      "id": "1d2b6a98-8146-4283-9eac-4555e01507f1",
      "metadata": {
        "id": "1d2b6a98-8146-4283-9eac-4555e01507f1",
        "outputId": "1cca1a38-a7e4-43f5-ab4a-9326e1180ca1"
      },
      "outputs": [
        {
          "data": {
            "text/plain": [
              "Gender                        object\n",
              "Age                           object\n",
              "Occupation                    object\n",
              "City_Category                 object\n",
              "Stay_In_Current_City_Years    object\n",
              "Marital_Status                object\n",
              "Product_Category              object\n",
              "Purchase                       int64\n",
              "dtype: object"
            ]
          },
          "execution_count": 23,
          "metadata": {},
          "output_type": "execute_result"
        }
      ],
      "source": [
        "df2.dtypes"
      ]
    },
    {
      "cell_type": "markdown",
      "id": "539500d2-0919-4550-b9a3-01c310dcd762",
      "metadata": {
        "id": "539500d2-0919-4550-b9a3-01c310dcd762"
      },
      "source": [
        "#### Observations from description of data\n",
        "* a\n",
        "* b\n",
        "* c"
      ]
    },
    {
      "cell_type": "code",
      "execution_count": null,
      "id": "9c041f6d-a76e-4d7e-a72f-7062bfa670c4",
      "metadata": {
        "id": "9c041f6d-a76e-4d7e-a72f-7062bfa670c4",
        "outputId": "5c146d94-0838-4d91-b7c5-5504e61da889"
      },
      "outputs": [
        {
          "data": {
            "text/html": [
              "<div>\n",
              "<style scoped>\n",
              "    .dataframe tbody tr th:only-of-type {\n",
              "        vertical-align: middle;\n",
              "    }\n",
              "\n",
              "    .dataframe tbody tr th {\n",
              "        vertical-align: top;\n",
              "    }\n",
              "\n",
              "    .dataframe thead th {\n",
              "        text-align: right;\n",
              "    }\n",
              "</style>\n",
              "<table border=\"1\" class=\"dataframe\">\n",
              "  <thead>\n",
              "    <tr style=\"text-align: right;\">\n",
              "      <th></th>\n",
              "      <th></th>\n",
              "      <th>value</th>\n",
              "    </tr>\n",
              "    <tr>\n",
              "      <th>variable</th>\n",
              "      <th>value</th>\n",
              "      <th></th>\n",
              "    </tr>\n",
              "  </thead>\n",
              "  <tbody>\n",
              "    <tr>\n",
              "      <th rowspan=\"7\" valign=\"top\">Age</th>\n",
              "      <th>0-17</th>\n",
              "      <td>2.75</td>\n",
              "    </tr>\n",
              "    <tr>\n",
              "      <th>18-25</th>\n",
              "      <td>18.12</td>\n",
              "    </tr>\n",
              "    <tr>\n",
              "      <th>26-35</th>\n",
              "      <td>39.92</td>\n",
              "    </tr>\n",
              "    <tr>\n",
              "      <th>36-45</th>\n",
              "      <td>20.00</td>\n",
              "    </tr>\n",
              "    <tr>\n",
              "      <th>46-50</th>\n",
              "      <td>8.31</td>\n",
              "    </tr>\n",
              "    <tr>\n",
              "      <th>51-55</th>\n",
              "      <td>7.00</td>\n",
              "    </tr>\n",
              "    <tr>\n",
              "      <th>55+</th>\n",
              "      <td>3.91</td>\n",
              "    </tr>\n",
              "    <tr>\n",
              "      <th rowspan=\"3\" valign=\"top\">City_Category</th>\n",
              "      <th>A</th>\n",
              "      <td>26.85</td>\n",
              "    </tr>\n",
              "    <tr>\n",
              "      <th>B</th>\n",
              "      <td>42.03</td>\n",
              "    </tr>\n",
              "    <tr>\n",
              "      <th>C</th>\n",
              "      <td>31.12</td>\n",
              "    </tr>\n",
              "    <tr>\n",
              "      <th rowspan=\"2\" valign=\"top\">Gender</th>\n",
              "      <th>F</th>\n",
              "      <td>24.69</td>\n",
              "    </tr>\n",
              "    <tr>\n",
              "      <th>M</th>\n",
              "      <td>75.31</td>\n",
              "    </tr>\n",
              "    <tr>\n",
              "      <th rowspan=\"2\" valign=\"top\">Marital_Status</th>\n",
              "      <th>0</th>\n",
              "      <td>59.03</td>\n",
              "    </tr>\n",
              "    <tr>\n",
              "      <th>1</th>\n",
              "      <td>40.97</td>\n",
              "    </tr>\n",
              "    <tr>\n",
              "      <th rowspan=\"5\" valign=\"top\">Stay_In_Current_City_Years</th>\n",
              "      <th>0</th>\n",
              "      <td>13.53</td>\n",
              "    </tr>\n",
              "    <tr>\n",
              "      <th>1</th>\n",
              "      <td>35.24</td>\n",
              "    </tr>\n",
              "    <tr>\n",
              "      <th>2</th>\n",
              "      <td>18.51</td>\n",
              "    </tr>\n",
              "    <tr>\n",
              "      <th>3</th>\n",
              "      <td>17.32</td>\n",
              "    </tr>\n",
              "    <tr>\n",
              "      <th>4+</th>\n",
              "      <td>15.40</td>\n",
              "    </tr>\n",
              "  </tbody>\n",
              "</table>\n",
              "</div>"
            ],
            "text/plain": [
              "                                  value\n",
              "variable                   value       \n",
              "Age                        0-17    2.75\n",
              "                           18-25  18.12\n",
              "                           26-35  39.92\n",
              "                           36-45  20.00\n",
              "                           46-50   8.31\n",
              "                           51-55   7.00\n",
              "                           55+     3.91\n",
              "City_Category              A      26.85\n",
              "                           B      42.03\n",
              "                           C      31.12\n",
              "Gender                     F      24.69\n",
              "                           M      75.31\n",
              "Marital_Status             0      59.03\n",
              "                           1      40.97\n",
              "Stay_In_Current_City_Years 0      13.53\n",
              "                           1      35.24\n",
              "                           2      18.51\n",
              "                           3      17.32\n",
              "                           4+     15.40"
            ]
          },
          "execution_count": 24,
          "metadata": {},
          "output_type": "execute_result"
        }
      ],
      "source": [
        "# Checking how categorical variables contributes to the entire data\n",
        "categ_cols = ['Gender', 'Age', 'City_Category', 'Stay_In_Current_City_Years', 'Marital_Status']\n",
        "((df2[categ_cols].melt().groupby(['variable', 'value'])[['value']].count()/len(df2))*100).round(2)"
      ]
    },
    {
      "cell_type": "markdown",
      "id": "73f708a7-c476-43a4-92a9-7cee283c3088",
      "metadata": {
        "id": "73f708a7-c476-43a4-92a9-7cee283c3088"
      },
      "source": [
        "#### Observations:\n",
        "* 39.92% customers belong 26-35 age group bin\n",
        "* Male customers are much higher - 75% than female customers - i.e. 25%\n",
        "* Unmarried to married ration is 3:2"
      ]
    },
    {
      "cell_type": "markdown",
      "id": "a5bd85b0-621d-45f3-8142-6d10b9239393",
      "metadata": {
        "id": "a5bd85b0-621d-45f3-8142-6d10b9239393"
      },
      "source": [
        "#### Bi-variate analysis"
      ]
    },
    {
      "cell_type": "code",
      "execution_count": null,
      "id": "f931d3cd-dd45-4ada-a4df-141d6b7ef697",
      "metadata": {
        "id": "f931d3cd-dd45-4ada-a4df-141d6b7ef697",
        "outputId": "f92c68f3-101a-4b91-b25d-32d3877413d3"
      },
      "outputs": [
        {
          "data": {
            "text/plain": [
              "Age\n",
              "[26-35]    0.35\n",
              "[36-45]    0.20\n",
              "[18-25]    0.18\n",
              "[46-50]    0.09\n",
              "[51-55]    0.08\n",
              "[55+]      0.06\n",
              "[0-17]     0.04\n",
              "Name: count, dtype: float64"
            ]
          },
          "execution_count": 25,
          "metadata": {},
          "output_type": "execute_result"
        }
      ],
      "source": [
        "#Checking how the data is spread basis distinct users\n",
        "\n",
        "df3=df.groupby(['User_ID'])['Age'].unique()\n",
        "(df3.value_counts()/len(df3)).round(2)"
      ]
    },
    {
      "cell_type": "code",
      "execution_count": null,
      "id": "42b2bda0-0b72-426b-83ed-92298bd4299a",
      "metadata": {
        "id": "42b2bda0-0b72-426b-83ed-92298bd4299a",
        "outputId": "58bfe338-575c-4648-c1ab-ef8b24d94494"
      },
      "outputs": [
        {
          "data": {
            "text/plain": [
              "Age\n",
              "[26-35]    0.35\n",
              "[36-45]    0.20\n",
              "[18-25]    0.18\n",
              "[46-50]    0.09\n",
              "[51-55]    0.08\n",
              "[55+]      0.06\n",
              "[0-17]     0.04\n",
              "Name: count, dtype: float64"
            ]
          },
          "execution_count": 26,
          "metadata": {},
          "output_type": "execute_result"
        }
      ],
      "source": [
        "#Checking how the data is spread basis distinct users\n",
        "\n",
        "df3=df.groupby(['User_ID'])['Age'].unique()\n",
        "(df3.value_counts()/len(df3)).round(2)"
      ]
    },
    {
      "cell_type": "code",
      "execution_count": null,
      "id": "5b06c028-09d6-4719-9e98-3c728c325767",
      "metadata": {
        "id": "5b06c028-09d6-4719-9e98-3c728c325767",
        "outputId": "ff7b3b58-f298-482f-96df-e8ba984d4656"
      },
      "outputs": [
        {
          "data": {
            "text/html": [
              "<div>\n",
              "<style scoped>\n",
              "    .dataframe tbody tr th:only-of-type {\n",
              "        vertical-align: middle;\n",
              "    }\n",
              "\n",
              "    .dataframe tbody tr th {\n",
              "        vertical-align: top;\n",
              "    }\n",
              "\n",
              "    .dataframe thead th {\n",
              "        text-align: right;\n",
              "    }\n",
              "</style>\n",
              "<table border=\"1\" class=\"dataframe\">\n",
              "  <thead>\n",
              "    <tr style=\"text-align: right;\">\n",
              "      <th></th>\n",
              "      <th>User_ID</th>\n",
              "      <th>Product_ID</th>\n",
              "      <th>Gender</th>\n",
              "      <th>Age</th>\n",
              "      <th>Occupation</th>\n",
              "      <th>City_Category</th>\n",
              "      <th>Stay_In_Current_City_Years</th>\n",
              "      <th>Marital_Status</th>\n",
              "      <th>Product_Category</th>\n",
              "      <th>Purchase</th>\n",
              "    </tr>\n",
              "  </thead>\n",
              "  <tbody>\n",
              "    <tr>\n",
              "      <th>0</th>\n",
              "      <td>1000001</td>\n",
              "      <td>P00069042</td>\n",
              "      <td>F</td>\n",
              "      <td>0-17</td>\n",
              "      <td>10</td>\n",
              "      <td>A</td>\n",
              "      <td>2</td>\n",
              "      <td>0</td>\n",
              "      <td>3</td>\n",
              "      <td>8370</td>\n",
              "    </tr>\n",
              "    <tr>\n",
              "      <th>1</th>\n",
              "      <td>1000001</td>\n",
              "      <td>P00248942</td>\n",
              "      <td>F</td>\n",
              "      <td>0-17</td>\n",
              "      <td>10</td>\n",
              "      <td>A</td>\n",
              "      <td>2</td>\n",
              "      <td>0</td>\n",
              "      <td>1</td>\n",
              "      <td>15200</td>\n",
              "    </tr>\n",
              "    <tr>\n",
              "      <th>2</th>\n",
              "      <td>1000001</td>\n",
              "      <td>P00087842</td>\n",
              "      <td>F</td>\n",
              "      <td>0-17</td>\n",
              "      <td>10</td>\n",
              "      <td>A</td>\n",
              "      <td>2</td>\n",
              "      <td>0</td>\n",
              "      <td>12</td>\n",
              "      <td>1422</td>\n",
              "    </tr>\n",
              "    <tr>\n",
              "      <th>3</th>\n",
              "      <td>1000001</td>\n",
              "      <td>P00085442</td>\n",
              "      <td>F</td>\n",
              "      <td>0-17</td>\n",
              "      <td>10</td>\n",
              "      <td>A</td>\n",
              "      <td>2</td>\n",
              "      <td>0</td>\n",
              "      <td>12</td>\n",
              "      <td>1057</td>\n",
              "    </tr>\n",
              "    <tr>\n",
              "      <th>4</th>\n",
              "      <td>1000002</td>\n",
              "      <td>P00285442</td>\n",
              "      <td>M</td>\n",
              "      <td>55+</td>\n",
              "      <td>16</td>\n",
              "      <td>C</td>\n",
              "      <td>4+</td>\n",
              "      <td>0</td>\n",
              "      <td>8</td>\n",
              "      <td>7969</td>\n",
              "    </tr>\n",
              "  </tbody>\n",
              "</table>\n",
              "</div>"
            ],
            "text/plain": [
              "   User_ID Product_ID Gender   Age  Occupation City_Category  \\\n",
              "0  1000001  P00069042      F  0-17          10             A   \n",
              "1  1000001  P00248942      F  0-17          10             A   \n",
              "2  1000001  P00087842      F  0-17          10             A   \n",
              "3  1000001  P00085442      F  0-17          10             A   \n",
              "4  1000002  P00285442      M   55+          16             C   \n",
              "\n",
              "  Stay_In_Current_City_Years  Marital_Status  Product_Category  Purchase  \n",
              "0                          2               0                 3      8370  \n",
              "1                          2               0                 1     15200  \n",
              "2                          2               0                12      1422  \n",
              "3                          2               0                12      1057  \n",
              "4                         4+               0                 8      7969  "
            ]
          },
          "execution_count": 27,
          "metadata": {},
          "output_type": "execute_result"
        }
      ],
      "source": [
        "df.head()"
      ]
    },
    {
      "cell_type": "code",
      "execution_count": null,
      "id": "66f8a13b-9c90-4cec-96a7-91c9e873b43a",
      "metadata": {
        "id": "66f8a13b-9c90-4cec-96a7-91c9e873b43a",
        "outputId": "1cff0d2e-94da-43f5-8f98-d777f10c0d1b"
      },
      "outputs": [
        {
          "data": {
            "text/plain": [
              "Gender\n",
              "[M]    0.72\n",
              "[F]    0.28\n",
              "Name: count, dtype: float64"
            ]
          },
          "execution_count": 28,
          "metadata": {},
          "output_type": "execute_result"
        }
      ],
      "source": [
        "#Checking how the data is spread basis distinct users\n",
        "\n",
        "df3=df.groupby(['User_ID'])['Gender'].unique()\n",
        "(df3.value_counts()/len(df3)).round(2)"
      ]
    },
    {
      "cell_type": "code",
      "execution_count": null,
      "id": "23dd5160-1079-4501-ab23-7054638d8dc3",
      "metadata": {
        "id": "23dd5160-1079-4501-ab23-7054638d8dc3",
        "outputId": "fb3b53a8-7a5b-402b-bac0-cc8d8714d84a"
      },
      "outputs": [
        {
          "data": {
            "text/plain": [
              "City_Category\n",
              "[C]    0.53\n",
              "[B]    0.29\n",
              "[A]    0.18\n",
              "Name: count, dtype: float64"
            ]
          },
          "execution_count": 29,
          "metadata": {},
          "output_type": "execute_result"
        }
      ],
      "source": [
        "#Checking how the data is spread basis distinct users\n",
        "\n",
        "df3=df.groupby(['User_ID'])['City_Category'].unique()\n",
        "(df3.value_counts()/len(df3)).round(2)"
      ]
    },
    {
      "cell_type": "code",
      "execution_count": null,
      "id": "4644033e-23f7-47dc-9541-4300aa595ec9",
      "metadata": {
        "id": "4644033e-23f7-47dc-9541-4300aa595ec9",
        "outputId": "26b0ebf9-0e6c-4927-95e4-f0c4cb9a96a2"
      },
      "outputs": [
        {
          "data": {
            "text/plain": [
              "Stay_In_Current_City_Years\n",
              "[1]     0.35\n",
              "[2]     0.19\n",
              "[3]     0.17\n",
              "[4+]    0.15\n",
              "[0]     0.13\n",
              "Name: count, dtype: float64"
            ]
          },
          "execution_count": 30,
          "metadata": {},
          "output_type": "execute_result"
        }
      ],
      "source": [
        "#Checking how the data is spread basis distinct users\n",
        "\n",
        "df3=df.groupby(['User_ID'])['Stay_In_Current_City_Years'].unique()\n",
        "(df3.value_counts()/len(df3)).round(2)"
      ]
    },
    {
      "cell_type": "code",
      "execution_count": null,
      "id": "406151f8-8cf3-4989-a7d0-d860ca440d5f",
      "metadata": {
        "id": "406151f8-8cf3-4989-a7d0-d860ca440d5f",
        "outputId": "842e8c2e-adbb-42e9-9ada-0649e50e1511"
      },
      "outputs": [
        {
          "data": {
            "text/plain": [
              "Marital_Status\n",
              "[0]    0.58\n",
              "[1]    0.42\n",
              "Name: count, dtype: float64"
            ]
          },
          "execution_count": 31,
          "metadata": {},
          "output_type": "execute_result"
        }
      ],
      "source": [
        "#Checking how the data is spread basis distinct users\n",
        "\n",
        "df3=df.groupby(['User_ID'])['Marital_Status'].unique()\n",
        "(df3.value_counts()/len(df3)).round(2)"
      ]
    },
    {
      "cell_type": "code",
      "execution_count": null,
      "id": "50c35036-ffab-4fae-8ce6-ac3831288870",
      "metadata": {
        "id": "50c35036-ffab-4fae-8ce6-ac3831288870",
        "outputId": "e2794963-e410-43ae-94b9-ce2dd3cba996"
      },
      "outputs": [
        {
          "data": {
            "text/html": [
              "<div>\n",
              "<style scoped>\n",
              "    .dataframe tbody tr th:only-of-type {\n",
              "        vertical-align: middle;\n",
              "    }\n",
              "\n",
              "    .dataframe tbody tr th {\n",
              "        vertical-align: top;\n",
              "    }\n",
              "\n",
              "    .dataframe thead th {\n",
              "        text-align: right;\n",
              "    }\n",
              "</style>\n",
              "<table border=\"1\" class=\"dataframe\">\n",
              "  <thead>\n",
              "    <tr style=\"text-align: right;\">\n",
              "      <th></th>\n",
              "      <th>Purchase</th>\n",
              "      <th>percent</th>\n",
              "    </tr>\n",
              "    <tr>\n",
              "      <th>Gender</th>\n",
              "      <th></th>\n",
              "      <th></th>\n",
              "    </tr>\n",
              "  </thead>\n",
              "  <tbody>\n",
              "    <tr>\n",
              "      <th>F</th>\n",
              "      <td>1186232642</td>\n",
              "      <td>23.28</td>\n",
              "    </tr>\n",
              "    <tr>\n",
              "      <th>M</th>\n",
              "      <td>3909580100</td>\n",
              "      <td>76.72</td>\n",
              "    </tr>\n",
              "  </tbody>\n",
              "</table>\n",
              "</div>"
            ],
            "text/plain": [
              "          Purchase  percent\n",
              "Gender                     \n",
              "F       1186232642    23.28\n",
              "M       3909580100    76.72"
            ]
          },
          "execution_count": 32,
          "metadata": {},
          "output_type": "execute_result"
        }
      ],
      "source": [
        "#Checking how genders are contributing towards toatl purchase amount\n",
        "df4=pd.DataFrame(df.groupby(['Gender'])[['Purchase']].sum())\n",
        "\n",
        "df4['percent'] = (df4['Purchase'] /\n",
        "                  df4['Purchase'].sum()) * 100\n",
        "df4.round(2)"
      ]
    },
    {
      "cell_type": "code",
      "execution_count": null,
      "id": "fe210760-3553-4f97-b66f-cdb4f8716804",
      "metadata": {
        "id": "fe210760-3553-4f97-b66f-cdb4f8716804",
        "outputId": "438e874f-3d8e-4649-c2a4-40929a57fc31"
      },
      "outputs": [
        {
          "data": {
            "text/html": [
              "<div>\n",
              "<style scoped>\n",
              "    .dataframe tbody tr th:only-of-type {\n",
              "        vertical-align: middle;\n",
              "    }\n",
              "\n",
              "    .dataframe tbody tr th {\n",
              "        vertical-align: top;\n",
              "    }\n",
              "\n",
              "    .dataframe thead th {\n",
              "        text-align: right;\n",
              "    }\n",
              "</style>\n",
              "<table border=\"1\" class=\"dataframe\">\n",
              "  <thead>\n",
              "    <tr style=\"text-align: right;\">\n",
              "      <th></th>\n",
              "      <th>User_ID</th>\n",
              "      <th>Product_ID</th>\n",
              "      <th>Gender</th>\n",
              "      <th>Age</th>\n",
              "      <th>Occupation</th>\n",
              "      <th>City_Category</th>\n",
              "      <th>Stay_In_Current_City_Years</th>\n",
              "      <th>Marital_Status</th>\n",
              "      <th>Product_Category</th>\n",
              "      <th>Purchase</th>\n",
              "    </tr>\n",
              "  </thead>\n",
              "  <tbody>\n",
              "    <tr>\n",
              "      <th>0</th>\n",
              "      <td>1000001</td>\n",
              "      <td>P00069042</td>\n",
              "      <td>F</td>\n",
              "      <td>0-17</td>\n",
              "      <td>10</td>\n",
              "      <td>A</td>\n",
              "      <td>2</td>\n",
              "      <td>0</td>\n",
              "      <td>3</td>\n",
              "      <td>8370</td>\n",
              "    </tr>\n",
              "    <tr>\n",
              "      <th>1</th>\n",
              "      <td>1000001</td>\n",
              "      <td>P00248942</td>\n",
              "      <td>F</td>\n",
              "      <td>0-17</td>\n",
              "      <td>10</td>\n",
              "      <td>A</td>\n",
              "      <td>2</td>\n",
              "      <td>0</td>\n",
              "      <td>1</td>\n",
              "      <td>15200</td>\n",
              "    </tr>\n",
              "    <tr>\n",
              "      <th>2</th>\n",
              "      <td>1000001</td>\n",
              "      <td>P00087842</td>\n",
              "      <td>F</td>\n",
              "      <td>0-17</td>\n",
              "      <td>10</td>\n",
              "      <td>A</td>\n",
              "      <td>2</td>\n",
              "      <td>0</td>\n",
              "      <td>12</td>\n",
              "      <td>1422</td>\n",
              "    </tr>\n",
              "    <tr>\n",
              "      <th>3</th>\n",
              "      <td>1000001</td>\n",
              "      <td>P00085442</td>\n",
              "      <td>F</td>\n",
              "      <td>0-17</td>\n",
              "      <td>10</td>\n",
              "      <td>A</td>\n",
              "      <td>2</td>\n",
              "      <td>0</td>\n",
              "      <td>12</td>\n",
              "      <td>1057</td>\n",
              "    </tr>\n",
              "    <tr>\n",
              "      <th>4</th>\n",
              "      <td>1000002</td>\n",
              "      <td>P00285442</td>\n",
              "      <td>M</td>\n",
              "      <td>55+</td>\n",
              "      <td>16</td>\n",
              "      <td>C</td>\n",
              "      <td>4+</td>\n",
              "      <td>0</td>\n",
              "      <td>8</td>\n",
              "      <td>7969</td>\n",
              "    </tr>\n",
              "  </tbody>\n",
              "</table>\n",
              "</div>"
            ],
            "text/plain": [
              "   User_ID Product_ID Gender   Age  Occupation City_Category  \\\n",
              "0  1000001  P00069042      F  0-17          10             A   \n",
              "1  1000001  P00248942      F  0-17          10             A   \n",
              "2  1000001  P00087842      F  0-17          10             A   \n",
              "3  1000001  P00085442      F  0-17          10             A   \n",
              "4  1000002  P00285442      M   55+          16             C   \n",
              "\n",
              "  Stay_In_Current_City_Years  Marital_Status  Product_Category  Purchase  \n",
              "0                          2               0                 3      8370  \n",
              "1                          2               0                 1     15200  \n",
              "2                          2               0                12      1422  \n",
              "3                          2               0                12      1057  \n",
              "4                         4+               0                 8      7969  "
            ]
          },
          "execution_count": 33,
          "metadata": {},
          "output_type": "execute_result"
        }
      ],
      "source": [
        "df.head()"
      ]
    },
    {
      "cell_type": "code",
      "execution_count": null,
      "id": "13574115-2e88-4550-a9b2-1693d0a8b59a",
      "metadata": {
        "id": "13574115-2e88-4550-a9b2-1693d0a8b59a",
        "outputId": "04a01f70-cc85-45bd-a23d-c34bc1aad146"
      },
      "outputs": [
        {
          "data": {
            "text/html": [
              "<div>\n",
              "<style scoped>\n",
              "    .dataframe tbody tr th:only-of-type {\n",
              "        vertical-align: middle;\n",
              "    }\n",
              "\n",
              "    .dataframe tbody tr th {\n",
              "        vertical-align: top;\n",
              "    }\n",
              "\n",
              "    .dataframe thead th {\n",
              "        text-align: right;\n",
              "    }\n",
              "</style>\n",
              "<table border=\"1\" class=\"dataframe\">\n",
              "  <thead>\n",
              "    <tr style=\"text-align: right;\">\n",
              "      <th></th>\n",
              "      <th>Purchase</th>\n",
              "      <th>percent</th>\n",
              "    </tr>\n",
              "    <tr>\n",
              "      <th>Age</th>\n",
              "      <th></th>\n",
              "      <th></th>\n",
              "    </tr>\n",
              "  </thead>\n",
              "  <tbody>\n",
              "    <tr>\n",
              "      <th>0-17</th>\n",
              "      <td>134913183</td>\n",
              "      <td>2.65</td>\n",
              "    </tr>\n",
              "    <tr>\n",
              "      <th>18-25</th>\n",
              "      <td>913848675</td>\n",
              "      <td>17.93</td>\n",
              "    </tr>\n",
              "    <tr>\n",
              "      <th>26-35</th>\n",
              "      <td>2031770578</td>\n",
              "      <td>39.87</td>\n",
              "    </tr>\n",
              "    <tr>\n",
              "      <th>36-45</th>\n",
              "      <td>1026569884</td>\n",
              "      <td>20.15</td>\n",
              "    </tr>\n",
              "    <tr>\n",
              "      <th>46-50</th>\n",
              "      <td>420843403</td>\n",
              "      <td>8.26</td>\n",
              "    </tr>\n",
              "    <tr>\n",
              "      <th>51-55</th>\n",
              "      <td>367099644</td>\n",
              "      <td>7.20</td>\n",
              "    </tr>\n",
              "    <tr>\n",
              "      <th>55+</th>\n",
              "      <td>200767375</td>\n",
              "      <td>3.94</td>\n",
              "    </tr>\n",
              "  </tbody>\n",
              "</table>\n",
              "</div>"
            ],
            "text/plain": [
              "         Purchase  percent\n",
              "Age                       \n",
              "0-17    134913183     2.65\n",
              "18-25   913848675    17.93\n",
              "26-35  2031770578    39.87\n",
              "36-45  1026569884    20.15\n",
              "46-50   420843403     8.26\n",
              "51-55   367099644     7.20\n",
              "55+     200767375     3.94"
            ]
          },
          "execution_count": 34,
          "metadata": {},
          "output_type": "execute_result"
        }
      ],
      "source": [
        "#Checking how genders are contributing towards toatl purchase amount\n",
        "df4=pd.DataFrame(df.groupby(['Age'])[['Purchase']].sum())\n",
        "\n",
        "df4['percent'] = (df4['Purchase'] /\n",
        "                  df4['Purchase'].sum()) * 100\n",
        "df4.round(2)"
      ]
    },
    {
      "cell_type": "code",
      "execution_count": null,
      "id": "98a69543-c615-45ee-a0ac-20e35cbccc4c",
      "metadata": {
        "id": "98a69543-c615-45ee-a0ac-20e35cbccc4c",
        "outputId": "a25b69c7-747b-4512-afb7-1993f53caa51"
      },
      "outputs": [
        {
          "data": {
            "text/html": [
              "<div>\n",
              "<style scoped>\n",
              "    .dataframe tbody tr th:only-of-type {\n",
              "        vertical-align: middle;\n",
              "    }\n",
              "\n",
              "    .dataframe tbody tr th {\n",
              "        vertical-align: top;\n",
              "    }\n",
              "\n",
              "    .dataframe thead th {\n",
              "        text-align: right;\n",
              "    }\n",
              "</style>\n",
              "<table border=\"1\" class=\"dataframe\">\n",
              "  <thead>\n",
              "    <tr style=\"text-align: right;\">\n",
              "      <th></th>\n",
              "      <th>Purchase</th>\n",
              "      <th>percent</th>\n",
              "    </tr>\n",
              "    <tr>\n",
              "      <th>Marital_Status</th>\n",
              "      <th></th>\n",
              "      <th></th>\n",
              "    </tr>\n",
              "  </thead>\n",
              "  <tbody>\n",
              "    <tr>\n",
              "      <th>0</th>\n",
              "      <td>3008927447</td>\n",
              "      <td>59.05</td>\n",
              "    </tr>\n",
              "    <tr>\n",
              "      <th>1</th>\n",
              "      <td>2086885295</td>\n",
              "      <td>40.95</td>\n",
              "    </tr>\n",
              "  </tbody>\n",
              "</table>\n",
              "</div>"
            ],
            "text/plain": [
              "                  Purchase  percent\n",
              "Marital_Status                     \n",
              "0               3008927447    59.05\n",
              "1               2086885295    40.95"
            ]
          },
          "execution_count": 35,
          "metadata": {},
          "output_type": "execute_result"
        }
      ],
      "source": [
        "#Checking how genders are contributing towards toatl purchase amount\n",
        "df4=pd.DataFrame(df.groupby(['Marital_Status'])[['Purchase']].sum())\n",
        "\n",
        "df4['percent'] = (df4['Purchase'] /\n",
        "                  df4['Purchase'].sum()) * 100\n",
        "df4.round(2)"
      ]
    },
    {
      "cell_type": "code",
      "execution_count": null,
      "id": "e225a5b2-17a1-4218-bdd5-8782d6cf9d34",
      "metadata": {
        "id": "e225a5b2-17a1-4218-bdd5-8782d6cf9d34",
        "outputId": "f62c94e1-8d0b-4c2d-d6f2-efe9479f4e73"
      },
      "outputs": [
        {
          "data": {
            "text/html": [
              "<div>\n",
              "<style scoped>\n",
              "    .dataframe tbody tr th:only-of-type {\n",
              "        vertical-align: middle;\n",
              "    }\n",
              "\n",
              "    .dataframe tbody tr th {\n",
              "        vertical-align: top;\n",
              "    }\n",
              "\n",
              "    .dataframe thead th {\n",
              "        text-align: right;\n",
              "    }\n",
              "</style>\n",
              "<table border=\"1\" class=\"dataframe\">\n",
              "  <thead>\n",
              "    <tr style=\"text-align: right;\">\n",
              "      <th></th>\n",
              "      <th>Purchase</th>\n",
              "      <th>percent</th>\n",
              "    </tr>\n",
              "    <tr>\n",
              "      <th>Occupation</th>\n",
              "      <th></th>\n",
              "      <th></th>\n",
              "    </tr>\n",
              "  </thead>\n",
              "  <tbody>\n",
              "    <tr>\n",
              "      <th>0</th>\n",
              "      <td>635406958</td>\n",
              "      <td>12.47</td>\n",
              "    </tr>\n",
              "    <tr>\n",
              "      <th>1</th>\n",
              "      <td>424614144</td>\n",
              "      <td>8.33</td>\n",
              "    </tr>\n",
              "    <tr>\n",
              "      <th>2</th>\n",
              "      <td>238028583</td>\n",
              "      <td>4.67</td>\n",
              "    </tr>\n",
              "    <tr>\n",
              "      <th>3</th>\n",
              "      <td>162002168</td>\n",
              "      <td>3.18</td>\n",
              "    </tr>\n",
              "    <tr>\n",
              "      <th>4</th>\n",
              "      <td>666244484</td>\n",
              "      <td>13.07</td>\n",
              "    </tr>\n",
              "    <tr>\n",
              "      <th>5</th>\n",
              "      <td>113649759</td>\n",
              "      <td>2.23</td>\n",
              "    </tr>\n",
              "    <tr>\n",
              "      <th>6</th>\n",
              "      <td>188416784</td>\n",
              "      <td>3.70</td>\n",
              "    </tr>\n",
              "    <tr>\n",
              "      <th>7</th>\n",
              "      <td>557371587</td>\n",
              "      <td>10.94</td>\n",
              "    </tr>\n",
              "    <tr>\n",
              "      <th>8</th>\n",
              "      <td>14737388</td>\n",
              "      <td>0.29</td>\n",
              "    </tr>\n",
              "    <tr>\n",
              "      <th>9</th>\n",
              "      <td>54340046</td>\n",
              "      <td>1.07</td>\n",
              "    </tr>\n",
              "    <tr>\n",
              "      <th>10</th>\n",
              "      <td>115844465</td>\n",
              "      <td>2.27</td>\n",
              "    </tr>\n",
              "    <tr>\n",
              "      <th>11</th>\n",
              "      <td>106751618</td>\n",
              "      <td>2.09</td>\n",
              "    </tr>\n",
              "    <tr>\n",
              "      <th>12</th>\n",
              "      <td>305449446</td>\n",
              "      <td>5.99</td>\n",
              "    </tr>\n",
              "    <tr>\n",
              "      <th>13</th>\n",
              "      <td>71919481</td>\n",
              "      <td>1.41</td>\n",
              "    </tr>\n",
              "    <tr>\n",
              "      <th>14</th>\n",
              "      <td>259454692</td>\n",
              "      <td>5.09</td>\n",
              "    </tr>\n",
              "    <tr>\n",
              "      <th>15</th>\n",
              "      <td>118960211</td>\n",
              "      <td>2.33</td>\n",
              "    </tr>\n",
              "    <tr>\n",
              "      <th>16</th>\n",
              "      <td>238346955</td>\n",
              "      <td>4.68</td>\n",
              "    </tr>\n",
              "    <tr>\n",
              "      <th>17</th>\n",
              "      <td>393281453</td>\n",
              "      <td>7.72</td>\n",
              "    </tr>\n",
              "    <tr>\n",
              "      <th>18</th>\n",
              "      <td>60721461</td>\n",
              "      <td>1.19</td>\n",
              "    </tr>\n",
              "    <tr>\n",
              "      <th>19</th>\n",
              "      <td>73700617</td>\n",
              "      <td>1.45</td>\n",
              "    </tr>\n",
              "    <tr>\n",
              "      <th>20</th>\n",
              "      <td>296570442</td>\n",
              "      <td>5.82</td>\n",
              "    </tr>\n",
              "  </tbody>\n",
              "</table>\n",
              "</div>"
            ],
            "text/plain": [
              "             Purchase  percent\n",
              "Occupation                    \n",
              "0           635406958    12.47\n",
              "1           424614144     8.33\n",
              "2           238028583     4.67\n",
              "3           162002168     3.18\n",
              "4           666244484    13.07\n",
              "5           113649759     2.23\n",
              "6           188416784     3.70\n",
              "7           557371587    10.94\n",
              "8            14737388     0.29\n",
              "9            54340046     1.07\n",
              "10          115844465     2.27\n",
              "11          106751618     2.09\n",
              "12          305449446     5.99\n",
              "13           71919481     1.41\n",
              "14          259454692     5.09\n",
              "15          118960211     2.33\n",
              "16          238346955     4.68\n",
              "17          393281453     7.72\n",
              "18           60721461     1.19\n",
              "19           73700617     1.45\n",
              "20          296570442     5.82"
            ]
          },
          "execution_count": 36,
          "metadata": {},
          "output_type": "execute_result"
        }
      ],
      "source": [
        "#Checking how genders are contributing towards toatl purchase amount\n",
        "df4=pd.DataFrame(df.groupby(['Occupation'])[['Purchase']].sum())\n",
        "\n",
        "df4['percent'] = (df4['Purchase'] /\n",
        "                  df4['Purchase'].sum()) * 100\n",
        "df4.round(2)"
      ]
    },
    {
      "cell_type": "code",
      "execution_count": null,
      "id": "636d60c2-1c03-4317-bacd-c4b65db40e64",
      "metadata": {
        "id": "636d60c2-1c03-4317-bacd-c4b65db40e64",
        "outputId": "6e8decfc-66d5-47f8-b104-5af877a44cc7"
      },
      "outputs": [
        {
          "data": {
            "text/html": [
              "<div>\n",
              "<style scoped>\n",
              "    .dataframe tbody tr th:only-of-type {\n",
              "        vertical-align: middle;\n",
              "    }\n",
              "\n",
              "    .dataframe tbody tr th {\n",
              "        vertical-align: top;\n",
              "    }\n",
              "\n",
              "    .dataframe thead th {\n",
              "        text-align: right;\n",
              "    }\n",
              "</style>\n",
              "<table border=\"1\" class=\"dataframe\">\n",
              "  <thead>\n",
              "    <tr style=\"text-align: right;\">\n",
              "      <th></th>\n",
              "      <th>Purchase</th>\n",
              "      <th>percent</th>\n",
              "    </tr>\n",
              "    <tr>\n",
              "      <th>Product_Category</th>\n",
              "      <th></th>\n",
              "      <th></th>\n",
              "    </tr>\n",
              "  </thead>\n",
              "  <tbody>\n",
              "    <tr>\n",
              "      <th>1</th>\n",
              "      <td>1910013754</td>\n",
              "      <td>37.48</td>\n",
              "    </tr>\n",
              "    <tr>\n",
              "      <th>2</th>\n",
              "      <td>268516186</td>\n",
              "      <td>5.27</td>\n",
              "    </tr>\n",
              "    <tr>\n",
              "      <th>3</th>\n",
              "      <td>204084713</td>\n",
              "      <td>4.00</td>\n",
              "    </tr>\n",
              "    <tr>\n",
              "      <th>4</th>\n",
              "      <td>27380488</td>\n",
              "      <td>0.54</td>\n",
              "    </tr>\n",
              "    <tr>\n",
              "      <th>5</th>\n",
              "      <td>941835229</td>\n",
              "      <td>18.48</td>\n",
              "    </tr>\n",
              "    <tr>\n",
              "      <th>6</th>\n",
              "      <td>324150302</td>\n",
              "      <td>6.36</td>\n",
              "    </tr>\n",
              "    <tr>\n",
              "      <th>7</th>\n",
              "      <td>60896731</td>\n",
              "      <td>1.20</td>\n",
              "    </tr>\n",
              "    <tr>\n",
              "      <th>8</th>\n",
              "      <td>854318799</td>\n",
              "      <td>16.77</td>\n",
              "    </tr>\n",
              "    <tr>\n",
              "      <th>9</th>\n",
              "      <td>6370324</td>\n",
              "      <td>0.13</td>\n",
              "    </tr>\n",
              "    <tr>\n",
              "      <th>10</th>\n",
              "      <td>100837301</td>\n",
              "      <td>1.98</td>\n",
              "    </tr>\n",
              "    <tr>\n",
              "      <th>11</th>\n",
              "      <td>113791115</td>\n",
              "      <td>2.23</td>\n",
              "    </tr>\n",
              "    <tr>\n",
              "      <th>12</th>\n",
              "      <td>5331844</td>\n",
              "      <td>0.10</td>\n",
              "    </tr>\n",
              "    <tr>\n",
              "      <th>13</th>\n",
              "      <td>4008601</td>\n",
              "      <td>0.08</td>\n",
              "    </tr>\n",
              "    <tr>\n",
              "      <th>14</th>\n",
              "      <td>20014696</td>\n",
              "      <td>0.39</td>\n",
              "    </tr>\n",
              "    <tr>\n",
              "      <th>15</th>\n",
              "      <td>92969042</td>\n",
              "      <td>1.82</td>\n",
              "    </tr>\n",
              "    <tr>\n",
              "      <th>16</th>\n",
              "      <td>145120612</td>\n",
              "      <td>2.85</td>\n",
              "    </tr>\n",
              "    <tr>\n",
              "      <th>17</th>\n",
              "      <td>5878699</td>\n",
              "      <td>0.12</td>\n",
              "    </tr>\n",
              "    <tr>\n",
              "      <th>18</th>\n",
              "      <td>9290201</td>\n",
              "      <td>0.18</td>\n",
              "    </tr>\n",
              "    <tr>\n",
              "      <th>19</th>\n",
              "      <td>59378</td>\n",
              "      <td>0.00</td>\n",
              "    </tr>\n",
              "    <tr>\n",
              "      <th>20</th>\n",
              "      <td>944727</td>\n",
              "      <td>0.02</td>\n",
              "    </tr>\n",
              "  </tbody>\n",
              "</table>\n",
              "</div>"
            ],
            "text/plain": [
              "                    Purchase  percent\n",
              "Product_Category                     \n",
              "1                 1910013754    37.48\n",
              "2                  268516186     5.27\n",
              "3                  204084713     4.00\n",
              "4                   27380488     0.54\n",
              "5                  941835229    18.48\n",
              "6                  324150302     6.36\n",
              "7                   60896731     1.20\n",
              "8                  854318799    16.77\n",
              "9                    6370324     0.13\n",
              "10                 100837301     1.98\n",
              "11                 113791115     2.23\n",
              "12                   5331844     0.10\n",
              "13                   4008601     0.08\n",
              "14                  20014696     0.39\n",
              "15                  92969042     1.82\n",
              "16                 145120612     2.85\n",
              "17                   5878699     0.12\n",
              "18                   9290201     0.18\n",
              "19                     59378     0.00\n",
              "20                    944727     0.02"
            ]
          },
          "execution_count": 37,
          "metadata": {},
          "output_type": "execute_result"
        }
      ],
      "source": [
        "#Checking how genders are contributing towards toatl purchase amount\n",
        "df4=pd.DataFrame(df.groupby(['Product_Category'])[['Purchase']].sum())\n",
        "\n",
        "df4['percent'] = (df4['Purchase'] /\n",
        "                  df4['Purchase'].sum()) * 100\n",
        "df4.round(2)"
      ]
    },
    {
      "cell_type": "markdown",
      "id": "72019443-6fe2-4d96-b31c-c43bcbf226fc",
      "metadata": {
        "id": "72019443-6fe2-4d96-b31c-c43bcbf226fc"
      },
      "source": [
        "#### Observations\n",
        "* Product category - 1 has highest purchase percentage.\n",
        "* Unmarried customers contribute to almost 60% of total purchase\n",
        "* Age group in bin 26-35 contribute highest towards total purchase with 39.8%\n",
        "* Customers with occupation ID 0,4 and 7 contribute most in total purchase."
      ]
    },
    {
      "cell_type": "markdown",
      "id": "018dd284-78c8-41ce-ab0e-915db2b2f0b5",
      "metadata": {
        "id": "018dd284-78c8-41ce-ab0e-915db2b2f0b5"
      },
      "source": [
        "### Univariate Analysis"
      ]
    },
    {
      "cell_type": "code",
      "execution_count": null,
      "id": "03fb9713-1a76-4a61-bd01-4664c7477ea6",
      "metadata": {
        "id": "03fb9713-1a76-4a61-bd01-4664c7477ea6",
        "outputId": "e19243e1-1fb8-436d-e847-9c8e5e7f20f0"
      },
      "outputs": [
        {
          "data": {
            "image/png": "[encoded data removed]",
            "text/plain": [
              "<Figure size 1000x600 with 1 Axes>"
            ]
          },
          "metadata": {},
          "output_type": "display_data"
        }
      ],
      "source": [
        "plt.figure(figsize=(10,6))\n",
        "sns.histplot(data=df,x='Purchase',kde=True)\n",
        "plt.show()"
      ]
    },
    {
      "cell_type": "code",
      "execution_count": null,
      "id": "2198fdfe-cfb2-4610-a5b4-cefc0940da8c",
      "metadata": {
        "id": "2198fdfe-cfb2-4610-a5b4-cefc0940da8c",
        "outputId": "69cd6af7-ffde-4659-86c8-79b84b7a57f1"
      },
      "outputs": [
        {
          "data": {
            "image/png": "[encoded data removed]",
            "text/plain": [
              "<Figure size 500x400 with 1 Axes>"
            ]
          },
          "metadata": {},
          "output_type": "display_data"
        }
      ],
      "source": [
        "plt.figure(figsize=(5,4))\n",
        "sns.boxplot(data=df,y='Purchase')\n",
        "plt.show()"
      ]
    },
    {
      "cell_type": "markdown",
      "id": "0734ff30-2d4b-46ce-90fd-c4871f60549e",
      "metadata": {
        "id": "0734ff30-2d4b-46ce-90fd-c4871f60549e"
      },
      "source": [
        "#### Observations\n",
        "* Purchase amount frequency is highest betweeen 5000-10000"
      ]
    },
    {
      "cell_type": "markdown",
      "id": "e7706936-8933-4698-99e1-2f21f1ad2daf",
      "metadata": {
        "id": "e7706936-8933-4698-99e1-2f21f1ad2daf"
      },
      "source": [
        "#### Categorical variables analysis\n"
      ]
    },
    {
      "cell_type": "code",
      "execution_count": null,
      "id": "d2572739-f3e5-4f3f-bcac-116fc387d9a3",
      "metadata": {
        "id": "d2572739-f3e5-4f3f-bcac-116fc387d9a3",
        "outputId": "5ece68f6-b976-4cb5-f4fe-a8a55b47f8a9"
      },
      "outputs": [
        {
          "data": {
            "text/html": [
              "<div>\n",
              "<style scoped>\n",
              "    .dataframe tbody tr th:only-of-type {\n",
              "        vertical-align: middle;\n",
              "    }\n",
              "\n",
              "    .dataframe tbody tr th {\n",
              "        vertical-align: top;\n",
              "    }\n",
              "\n",
              "    .dataframe thead th {\n",
              "        text-align: right;\n",
              "    }\n",
              "</style>\n",
              "<table border=\"1\" class=\"dataframe\">\n",
              "  <thead>\n",
              "    <tr style=\"text-align: right;\">\n",
              "      <th></th>\n",
              "      <th>User_ID</th>\n",
              "      <th>Product_ID</th>\n",
              "      <th>Gender</th>\n",
              "      <th>Age</th>\n",
              "      <th>Occupation</th>\n",
              "      <th>City_Category</th>\n",
              "      <th>Stay_In_Current_City_Years</th>\n",
              "      <th>Marital_Status</th>\n",
              "      <th>Product_Category</th>\n",
              "      <th>Purchase</th>\n",
              "    </tr>\n",
              "  </thead>\n",
              "  <tbody>\n",
              "    <tr>\n",
              "      <th>0</th>\n",
              "      <td>1000001</td>\n",
              "      <td>P00069042</td>\n",
              "      <td>F</td>\n",
              "      <td>0-17</td>\n",
              "      <td>10</td>\n",
              "      <td>A</td>\n",
              "      <td>2</td>\n",
              "      <td>0</td>\n",
              "      <td>3</td>\n",
              "      <td>8370</td>\n",
              "    </tr>\n",
              "    <tr>\n",
              "      <th>1</th>\n",
              "      <td>1000001</td>\n",
              "      <td>P00248942</td>\n",
              "      <td>F</td>\n",
              "      <td>0-17</td>\n",
              "      <td>10</td>\n",
              "      <td>A</td>\n",
              "      <td>2</td>\n",
              "      <td>0</td>\n",
              "      <td>1</td>\n",
              "      <td>15200</td>\n",
              "    </tr>\n",
              "    <tr>\n",
              "      <th>2</th>\n",
              "      <td>1000001</td>\n",
              "      <td>P00087842</td>\n",
              "      <td>F</td>\n",
              "      <td>0-17</td>\n",
              "      <td>10</td>\n",
              "      <td>A</td>\n",
              "      <td>2</td>\n",
              "      <td>0</td>\n",
              "      <td>12</td>\n",
              "      <td>1422</td>\n",
              "    </tr>\n",
              "    <tr>\n",
              "      <th>3</th>\n",
              "      <td>1000001</td>\n",
              "      <td>P00085442</td>\n",
              "      <td>F</td>\n",
              "      <td>0-17</td>\n",
              "      <td>10</td>\n",
              "      <td>A</td>\n",
              "      <td>2</td>\n",
              "      <td>0</td>\n",
              "      <td>12</td>\n",
              "      <td>1057</td>\n",
              "    </tr>\n",
              "    <tr>\n",
              "      <th>4</th>\n",
              "      <td>1000002</td>\n",
              "      <td>P00285442</td>\n",
              "      <td>M</td>\n",
              "      <td>55+</td>\n",
              "      <td>16</td>\n",
              "      <td>C</td>\n",
              "      <td>4+</td>\n",
              "      <td>0</td>\n",
              "      <td>8</td>\n",
              "      <td>7969</td>\n",
              "    </tr>\n",
              "  </tbody>\n",
              "</table>\n",
              "</div>"
            ],
            "text/plain": [
              "   User_ID Product_ID Gender   Age  Occupation City_Category  \\\n",
              "0  1000001  P00069042      F  0-17          10             A   \n",
              "1  1000001  P00248942      F  0-17          10             A   \n",
              "2  1000001  P00087842      F  0-17          10             A   \n",
              "3  1000001  P00085442      F  0-17          10             A   \n",
              "4  1000002  P00285442      M   55+          16             C   \n",
              "\n",
              "  Stay_In_Current_City_Years  Marital_Status  Product_Category  Purchase  \n",
              "0                          2               0                 3      8370  \n",
              "1                          2               0                 1     15200  \n",
              "2                          2               0                12      1422  \n",
              "3                          2               0                12      1057  \n",
              "4                         4+               0                 8      7969  "
            ]
          },
          "execution_count": 40,
          "metadata": {},
          "output_type": "execute_result"
        }
      ],
      "source": [
        "df.head()"
      ]
    },
    {
      "cell_type": "code",
      "execution_count": null,
      "id": "a7b3ef79-7d75-4bfb-bb7a-3ca1bda29dfc",
      "metadata": {
        "id": "a7b3ef79-7d75-4bfb-bb7a-3ca1bda29dfc",
        "outputId": "7c38e762-ce16-4a51-a279-fb04cdd3b405"
      },
      "outputs": [
        {
          "data": {
            "image/png": "[encoded data removed]",
            "text/plain": [
              "<Figure size 1300x1000 with 6 Axes>"
            ]
          },
          "metadata": {},
          "output_type": "display_data"
        }
      ],
      "source": [
        "fig, axs = plt.subplots(nrows=3, ncols=2, figsize=(13, 10))\n",
        "sns.countplot(data=df, x='Gender', ax=axs[0,0])\n",
        "sns.countplot(data=df, x='Occupation', ax=axs[0,1])\n",
        "sns.countplot(data=df, x='City_Category', ax=axs[1,0])\n",
        "sns.countplot(data=df, x='Marital_Status', ax=axs[1,1])\n",
        "sns.countplot(data=df, x='Age',ax=axs[2,0])\n",
        "sns.countplot(data=df, x='Stay_In_Current_City_Years', ax=axs[2,1])\n",
        "plt.show()"
      ]
    },
    {
      "cell_type": "markdown",
      "id": "baebd1cd-1d0c-4958-905c-fe122e8c11dc",
      "metadata": {
        "id": "baebd1cd-1d0c-4958-905c-fe122e8c11dc"
      },
      "source": [
        "#### Observations from plots\n",
        "* Male purchas is higher than Female\n",
        "* Customers with occupation 0,4 and 7 contribute more in total purchase\n",
        "* Customers residing in city B have puchased more compared to other two cities\n",
        "* Unmarried customers tend to purchase more than married ones.\n",
        "* Age bin 26-35 tend to spend more compared to other age groups\n",
        "* People staying for more than 1 year and less than 2 year tend to spend more compared to others."
      ]
    },
    {
      "cell_type": "markdown",
      "id": "933ddeac-8205-45c9-8933-9c4659eb4b50",
      "metadata": {
        "id": "933ddeac-8205-45c9-8933-9c4659eb4b50"
      },
      "source": [
        "### Bi-variate Analysis"
      ]
    },
    {
      "cell_type": "code",
      "execution_count": null,
      "id": "d03335cc-3f98-4f6d-a525-306272de6b85",
      "metadata": {
        "id": "d03335cc-3f98-4f6d-a525-306272de6b85",
        "outputId": "33514ef3-b173-41a5-83a6-e27de08bca63"
      },
      "outputs": [
        {
          "data": {
            "image/png": "[encoded data removed]",
            "text/plain": [
              "<Figure size 1600x500 with 2 Axes>"
            ]
          },
          "metadata": {},
          "output_type": "display_data"
        }
      ],
      "source": [
        "fig, axs = plt.subplots(nrows=1, ncols=2, figsize=(16,5))\n",
        "sns.histplot(data=df[df['Gender']=='M']['Purchase'], ax=axs[0]).set_title(\"Male Spending \")\n",
        "sns.histplot(data=df[df['Gender']=='F']['Purchase'], ax=axs[1]).set_title(\"Female Spending\")\n",
        "plt.show()"
      ]
    },
    {
      "cell_type": "code",
      "execution_count": null,
      "id": "9b6a4ae1-5359-4947-a40e-5b43d2e376d5",
      "metadata": {
        "id": "9b6a4ae1-5359-4947-a40e-5b43d2e376d5",
        "outputId": "74e6eed0-7532-4e9e-b80a-8ad77a8167b6"
      },
      "outputs": [
        {
          "data": {
            "text/plain": [
              "['Gender',\n",
              " 'Age',\n",
              " 'City_Category',\n",
              " 'Stay_In_Current_City_Years',\n",
              " 'Marital_Status']"
            ]
          },
          "execution_count": 43,
          "metadata": {},
          "output_type": "execute_result"
        }
      ],
      "source": [
        "categ_cols"
      ]
    },
    {
      "cell_type": "code",
      "execution_count": null,
      "id": "e2544265-f661-4a7e-acfb-c3d38f9d66cd",
      "metadata": {
        "id": "e2544265-f661-4a7e-acfb-c3d38f9d66cd",
        "outputId": "860dd2bf-8b8e-4608-faab-b864d42db231"
      },
      "outputs": [
        {
          "data": {
            "text/plain": [
              "['Gender',\n",
              " 'Age',\n",
              " 'City_Category',\n",
              " 'Stay_In_Current_City_Years',\n",
              " 'Marital_Status',\n",
              " 'Occupation']"
            ]
          },
          "execution_count": 44,
          "metadata": {},
          "output_type": "execute_result"
        }
      ],
      "source": [
        "categ_cols.append('Occupation')\n",
        "categ_cols"
      ]
    },
    {
      "cell_type": "code",
      "execution_count": null,
      "id": "14cd7f26-d7c4-4eb7-84ec-ee81a4de1c11",
      "metadata": {
        "id": "14cd7f26-d7c4-4eb7-84ec-ee81a4de1c11",
        "outputId": "5a7da18a-ed79-4205-8599-dcd7c07324b5"
      },
      "outputs": [
        {
          "data": {
            "image/png": "[encoded data removed]",
            "text/plain": [
              "<Figure size 1800x1000 with 6 Axes>"
            ]
          },
          "metadata": {},
          "output_type": "display_data"
        }
      ],
      "source": [
        "fig, axs = plt.subplots(nrows=3, ncols=2, figsize=(18, 10))\n",
        "fig.subplots_adjust(top=1.3)\n",
        "count = 0\n",
        "for row in range(3):\n",
        "    for col in range(2):\n",
        "        sns.boxplot(data=df, y='Purchase', x=categ_cols[count], ax=axs[row, col],)\n",
        "        axs[row,col].set_title(f\"Purchase vs {categ_cols[count]}\")\n",
        "        count += 1\n",
        "plt.show()"
      ]
    },
    {
      "cell_type": "code",
      "execution_count": null,
      "id": "f5c96eed-109d-4058-8ede-9a41c60f2776",
      "metadata": {
        "id": "f5c96eed-109d-4058-8ede-9a41c60f2776",
        "outputId": "b2088965-f773-449f-8b4a-adc8d3bc4ad0"
      },
      "outputs": [
        {
          "data": {
            "image/png": "[encoded data removed]",
            "text/plain": [
              "<Figure size 800x500 with 1 Axes>"
            ]
          },
          "metadata": {},
          "output_type": "display_data"
        }
      ],
      "source": [
        "plt.figure(figsize=(8, 5))\n",
        "sns.boxplot(data=df, y='Purchase', x='Product_Category')\n",
        "plt.show()"
      ]
    },
    {
      "cell_type": "markdown",
      "id": "088fd9f1-2eaa-4f6c-ab4b-2e1256176ef6",
      "metadata": {
        "id": "088fd9f1-2eaa-4f6c-ab4b-2e1256176ef6"
      },
      "source": [
        "#### Multi-Variate Analysis"
      ]
    },
    {
      "cell_type": "code",
      "execution_count": null,
      "id": "604470e8-b478-4882-8849-66c9ad84ac12",
      "metadata": {
        "id": "604470e8-b478-4882-8849-66c9ad84ac12",
        "outputId": "8c78910c-5ab0-4174-da56-0e0e6d0dcad2"
      },
      "outputs": [
        {
          "data": {
            "image/png": "[encoded data removed]",
            "text/plain": [
              "<Figure size 2000x600 with 4 Axes>"
            ]
          },
          "metadata": {},
          "output_type": "display_data"
        }
      ],
      "source": [
        "fig, axs = plt.subplots(nrows=2, ncols=2, figsize=(20, 6))\n",
        "fig.subplots_adjust(top=1.5)\n",
        "sns.boxplot(data=df, y='Purchase', x='Gender', hue='Age', ax=axs[0,0])\n",
        "sns.boxplot(data=df, y='Purchase', x='Gender', hue='City_Category', ax=axs[0,1])\n",
        "\n",
        "sns.boxplot(data=df, y='Purchase', x='Gender', hue='Marital_Status', ax=axs[1,0])\n",
        "sns.boxplot(data=df, y='Purchase', x='Gender', hue='Stay_In_Current_City_Years', ax=axs[1,1])\n",
        "\n",
        "plt.show()"
      ]
    },
    {
      "cell_type": "code",
      "execution_count": null,
      "id": "965f4ca4-7309-4a63-bdba-1ff3ce43a929",
      "metadata": {
        "id": "965f4ca4-7309-4a63-bdba-1ff3ce43a929",
        "outputId": "c21055c3-fc49-44f7-9605-10baecf0476b"
      },
      "outputs": [
        {
          "data": {
            "text/html": [
              "<div>\n",
              "<style scoped>\n",
              "    .dataframe tbody tr th:only-of-type {\n",
              "        vertical-align: middle;\n",
              "    }\n",
              "\n",
              "    .dataframe tbody tr th {\n",
              "        vertical-align: top;\n",
              "    }\n",
              "\n",
              "    .dataframe thead th {\n",
              "        text-align: right;\n",
              "    }\n",
              "</style>\n",
              "<table border=\"1\" class=\"dataframe\">\n",
              "  <thead>\n",
              "    <tr style=\"text-align: right;\">\n",
              "      <th></th>\n",
              "      <th>User_ID</th>\n",
              "      <th>Product_ID</th>\n",
              "      <th>Gender</th>\n",
              "      <th>Age</th>\n",
              "      <th>Occupation</th>\n",
              "      <th>City_Category</th>\n",
              "      <th>Stay_In_Current_City_Years</th>\n",
              "      <th>Marital_Status</th>\n",
              "      <th>Product_Category</th>\n",
              "      <th>Purchase</th>\n",
              "    </tr>\n",
              "  </thead>\n",
              "  <tbody>\n",
              "    <tr>\n",
              "      <th>0</th>\n",
              "      <td>1000001</td>\n",
              "      <td>P00069042</td>\n",
              "      <td>F</td>\n",
              "      <td>0-17</td>\n",
              "      <td>10</td>\n",
              "      <td>A</td>\n",
              "      <td>2</td>\n",
              "      <td>0</td>\n",
              "      <td>3</td>\n",
              "      <td>8370</td>\n",
              "    </tr>\n",
              "    <tr>\n",
              "      <th>1</th>\n",
              "      <td>1000001</td>\n",
              "      <td>P00248942</td>\n",
              "      <td>F</td>\n",
              "      <td>0-17</td>\n",
              "      <td>10</td>\n",
              "      <td>A</td>\n",
              "      <td>2</td>\n",
              "      <td>0</td>\n",
              "      <td>1</td>\n",
              "      <td>15200</td>\n",
              "    </tr>\n",
              "    <tr>\n",
              "      <th>2</th>\n",
              "      <td>1000001</td>\n",
              "      <td>P00087842</td>\n",
              "      <td>F</td>\n",
              "      <td>0-17</td>\n",
              "      <td>10</td>\n",
              "      <td>A</td>\n",
              "      <td>2</td>\n",
              "      <td>0</td>\n",
              "      <td>12</td>\n",
              "      <td>1422</td>\n",
              "    </tr>\n",
              "    <tr>\n",
              "      <th>3</th>\n",
              "      <td>1000001</td>\n",
              "      <td>P00085442</td>\n",
              "      <td>F</td>\n",
              "      <td>0-17</td>\n",
              "      <td>10</td>\n",
              "      <td>A</td>\n",
              "      <td>2</td>\n",
              "      <td>0</td>\n",
              "      <td>12</td>\n",
              "      <td>1057</td>\n",
              "    </tr>\n",
              "    <tr>\n",
              "      <th>4</th>\n",
              "      <td>1000002</td>\n",
              "      <td>P00285442</td>\n",
              "      <td>M</td>\n",
              "      <td>55+</td>\n",
              "      <td>16</td>\n",
              "      <td>C</td>\n",
              "      <td>4+</td>\n",
              "      <td>0</td>\n",
              "      <td>8</td>\n",
              "      <td>7969</td>\n",
              "    </tr>\n",
              "  </tbody>\n",
              "</table>\n",
              "</div>"
            ],
            "text/plain": [
              "   User_ID Product_ID Gender   Age  Occupation City_Category  \\\n",
              "0  1000001  P00069042      F  0-17          10             A   \n",
              "1  1000001  P00248942      F  0-17          10             A   \n",
              "2  1000001  P00087842      F  0-17          10             A   \n",
              "3  1000001  P00085442      F  0-17          10             A   \n",
              "4  1000002  P00285442      M   55+          16             C   \n",
              "\n",
              "  Stay_In_Current_City_Years  Marital_Status  Product_Category  Purchase  \n",
              "0                          2               0                 3      8370  \n",
              "1                          2               0                 1     15200  \n",
              "2                          2               0                12      1422  \n",
              "3                          2               0                12      1057  \n",
              "4                         4+               0                 8      7969  "
            ]
          },
          "execution_count": 48,
          "metadata": {},
          "output_type": "execute_result"
        }
      ],
      "source": [
        "df.head()"
      ]
    },
    {
      "cell_type": "code",
      "execution_count": null,
      "id": "6a3c5fcf-d2d6-4949-992c-18dca25d6ee5",
      "metadata": {
        "id": "6a3c5fcf-d2d6-4949-992c-18dca25d6ee5",
        "outputId": "da19ff5d-6648-48e0-9081-e35e79263072"
      },
      "outputs": [
        {
          "data": {
            "text/html": [
              "<div>\n",
              "<style scoped>\n",
              "    .dataframe tbody tr th:only-of-type {\n",
              "        vertical-align: middle;\n",
              "    }\n",
              "\n",
              "    .dataframe tbody tr th {\n",
              "        vertical-align: top;\n",
              "    }\n",
              "\n",
              "    .dataframe thead th {\n",
              "        text-align: right;\n",
              "    }\n",
              "</style>\n",
              "<table border=\"1\" class=\"dataframe\">\n",
              "  <thead>\n",
              "    <tr style=\"text-align: right;\">\n",
              "      <th></th>\n",
              "      <th>User_ID</th>\n",
              "      <th>Occupation</th>\n",
              "      <th>Marital_Status</th>\n",
              "      <th>Product_Category</th>\n",
              "      <th>Purchase</th>\n",
              "    </tr>\n",
              "  </thead>\n",
              "  <tbody>\n",
              "    <tr>\n",
              "      <th>0</th>\n",
              "      <td>1000001</td>\n",
              "      <td>10</td>\n",
              "      <td>0</td>\n",
              "      <td>3</td>\n",
              "      <td>8370</td>\n",
              "    </tr>\n",
              "    <tr>\n",
              "      <th>1</th>\n",
              "      <td>1000001</td>\n",
              "      <td>10</td>\n",
              "      <td>0</td>\n",
              "      <td>1</td>\n",
              "      <td>15200</td>\n",
              "    </tr>\n",
              "    <tr>\n",
              "      <th>2</th>\n",
              "      <td>1000001</td>\n",
              "      <td>10</td>\n",
              "      <td>0</td>\n",
              "      <td>12</td>\n",
              "      <td>1422</td>\n",
              "    </tr>\n",
              "    <tr>\n",
              "      <th>3</th>\n",
              "      <td>1000001</td>\n",
              "      <td>10</td>\n",
              "      <td>0</td>\n",
              "      <td>12</td>\n",
              "      <td>1057</td>\n",
              "    </tr>\n",
              "    <tr>\n",
              "      <th>4</th>\n",
              "      <td>1000002</td>\n",
              "      <td>16</td>\n",
              "      <td>0</td>\n",
              "      <td>8</td>\n",
              "      <td>7969</td>\n",
              "    </tr>\n",
              "  </tbody>\n",
              "</table>\n",
              "</div>"
            ],
            "text/plain": [
              "   User_ID  Occupation  Marital_Status  Product_Category  Purchase\n",
              "0  1000001          10               0                 3      8370\n",
              "1  1000001          10               0                 1     15200\n",
              "2  1000001          10               0                12      1422\n",
              "3  1000001          10               0                12      1057\n",
              "4  1000002          16               0                 8      7969"
            ]
          },
          "execution_count": 49,
          "metadata": {},
          "output_type": "execute_result"
        }
      ],
      "source": [
        "df_new = df[['User_ID','Occupation','Marital_Status','Product_Category','Purchase']]\n",
        "df_new.head()"
      ]
    },
    {
      "cell_type": "code",
      "execution_count": null,
      "id": "52545c7f-5357-4c1c-9ceb-4341c470c4a3",
      "metadata": {
        "id": "52545c7f-5357-4c1c-9ceb-4341c470c4a3",
        "outputId": "f988a712-6c3c-458c-9b60-2fb2a82f2fb1"
      },
      "outputs": [
        {
          "data": {
            "text/html": [
              "<div>\n",
              "<style scoped>\n",
              "    .dataframe tbody tr th:only-of-type {\n",
              "        vertical-align: middle;\n",
              "    }\n",
              "\n",
              "    .dataframe tbody tr th {\n",
              "        vertical-align: top;\n",
              "    }\n",
              "\n",
              "    .dataframe thead th {\n",
              "        text-align: right;\n",
              "    }\n",
              "</style>\n",
              "<table border=\"1\" class=\"dataframe\">\n",
              "  <thead>\n",
              "    <tr style=\"text-align: right;\">\n",
              "      <th></th>\n",
              "      <th>User_ID</th>\n",
              "      <th>Occupation</th>\n",
              "      <th>Marital_Status</th>\n",
              "      <th>Product_Category</th>\n",
              "      <th>Purchase</th>\n",
              "    </tr>\n",
              "  </thead>\n",
              "  <tbody>\n",
              "    <tr>\n",
              "      <th>User_ID</th>\n",
              "      <td>1.000000</td>\n",
              "      <td>-0.023971</td>\n",
              "      <td>0.020443</td>\n",
              "      <td>0.003825</td>\n",
              "      <td>0.004716</td>\n",
              "    </tr>\n",
              "    <tr>\n",
              "      <th>Occupation</th>\n",
              "      <td>-0.023971</td>\n",
              "      <td>1.000000</td>\n",
              "      <td>0.024280</td>\n",
              "      <td>-0.007618</td>\n",
              "      <td>0.020833</td>\n",
              "    </tr>\n",
              "    <tr>\n",
              "      <th>Marital_Status</th>\n",
              "      <td>0.020443</td>\n",
              "      <td>0.024280</td>\n",
              "      <td>1.000000</td>\n",
              "      <td>0.019888</td>\n",
              "      <td>-0.000463</td>\n",
              "    </tr>\n",
              "    <tr>\n",
              "      <th>Product_Category</th>\n",
              "      <td>0.003825</td>\n",
              "      <td>-0.007618</td>\n",
              "      <td>0.019888</td>\n",
              "      <td>1.000000</td>\n",
              "      <td>-0.343703</td>\n",
              "    </tr>\n",
              "    <tr>\n",
              "      <th>Purchase</th>\n",
              "      <td>0.004716</td>\n",
              "      <td>0.020833</td>\n",
              "      <td>-0.000463</td>\n",
              "      <td>-0.343703</td>\n",
              "      <td>1.000000</td>\n",
              "    </tr>\n",
              "  </tbody>\n",
              "</table>\n",
              "</div>"
            ],
            "text/plain": [
              "                   User_ID  Occupation  Marital_Status  Product_Category  \\\n",
              "User_ID           1.000000   -0.023971        0.020443          0.003825   \n",
              "Occupation       -0.023971    1.000000        0.024280         -0.007618   \n",
              "Marital_Status    0.020443    0.024280        1.000000          0.019888   \n",
              "Product_Category  0.003825   -0.007618        0.019888          1.000000   \n",
              "Purchase          0.004716    0.020833       -0.000463         -0.343703   \n",
              "\n",
              "                  Purchase  \n",
              "User_ID           0.004716  \n",
              "Occupation        0.020833  \n",
              "Marital_Status   -0.000463  \n",
              "Product_Category -0.343703  \n",
              "Purchase          1.000000  "
            ]
          },
          "execution_count": 50,
          "metadata": {},
          "output_type": "execute_result"
        }
      ],
      "source": [
        "df_new.corr()"
      ]
    },
    {
      "cell_type": "code",
      "execution_count": null,
      "id": "d38e3499-24ee-46ea-8e18-542bcf539f74",
      "metadata": {
        "id": "d38e3499-24ee-46ea-8e18-542bcf539f74",
        "outputId": "516fb5ff-87e2-4e3f-cc23-43f4d42d7075"
      },
      "outputs": [
        {
          "data": {
            "text/plain": [
              "<Axes: >"
            ]
          },
          "execution_count": 51,
          "metadata": {},
          "output_type": "execute_result"
        },
        {
          "data": {
            "image/png": "[encoded data removed]",
            "text/plain": [
              "<Figure size 640x480 with 2 Axes>"
            ]
          },
          "metadata": {},
          "output_type": "display_data"
        }
      ],
      "source": [
        "sns.heatmap(df_new.corr(), annot=True, linewidth=.5)"
      ]
    },
    {
      "cell_type": "markdown",
      "id": "e9d7f7af-95c0-44ec-ac8f-0550e8fd61ec",
      "metadata": {
        "id": "e9d7f7af-95c0-44ec-ac8f-0550e8fd61ec"
      },
      "source": [
        "#### Observations\n",
        "* a\n",
        "* b\n",
        "* c"
      ]
    },
    {
      "cell_type": "markdown",
      "id": "f6cc21b9-18c5-43b0-9712-9673856a15de",
      "metadata": {
        "id": "f6cc21b9-18c5-43b0-9712-9673856a15de"
      },
      "source": [
        "### CLT"
      ]
    },
    {
      "cell_type": "code",
      "execution_count": null,
      "id": "08714425-c7e5-4e4d-86ae-766878386b25",
      "metadata": {
        "id": "08714425-c7e5-4e4d-86ae-766878386b25",
        "outputId": "4f768c51-3e8b-442d-b332-ac90ddbcf68a"
      },
      "outputs": [
        {
          "data": {
            "text/html": [
              "<div>\n",
              "<style scoped>\n",
              "    .dataframe tbody tr th:only-of-type {\n",
              "        vertical-align: middle;\n",
              "    }\n",
              "\n",
              "    .dataframe tbody tr th {\n",
              "        vertical-align: top;\n",
              "    }\n",
              "\n",
              "    .dataframe thead th {\n",
              "        text-align: right;\n",
              "    }\n",
              "</style>\n",
              "<table border=\"1\" class=\"dataframe\">\n",
              "  <thead>\n",
              "    <tr style=\"text-align: right;\">\n",
              "      <th></th>\n",
              "      <th>User_ID</th>\n",
              "      <th>Product_ID</th>\n",
              "      <th>Gender</th>\n",
              "      <th>Age</th>\n",
              "      <th>Occupation</th>\n",
              "      <th>City_Category</th>\n",
              "      <th>Stay_In_Current_City_Years</th>\n",
              "      <th>Marital_Status</th>\n",
              "      <th>Product_Category</th>\n",
              "      <th>Purchase</th>\n",
              "    </tr>\n",
              "  </thead>\n",
              "  <tbody>\n",
              "    <tr>\n",
              "      <th>0</th>\n",
              "      <td>1000001</td>\n",
              "      <td>P00069042</td>\n",
              "      <td>F</td>\n",
              "      <td>0-17</td>\n",
              "      <td>10</td>\n",
              "      <td>A</td>\n",
              "      <td>2</td>\n",
              "      <td>0</td>\n",
              "      <td>3</td>\n",
              "      <td>8370</td>\n",
              "    </tr>\n",
              "    <tr>\n",
              "      <th>1</th>\n",
              "      <td>1000001</td>\n",
              "      <td>P00248942</td>\n",
              "      <td>F</td>\n",
              "      <td>0-17</td>\n",
              "      <td>10</td>\n",
              "      <td>A</td>\n",
              "      <td>2</td>\n",
              "      <td>0</td>\n",
              "      <td>1</td>\n",
              "      <td>15200</td>\n",
              "    </tr>\n",
              "    <tr>\n",
              "      <th>2</th>\n",
              "      <td>1000001</td>\n",
              "      <td>P00087842</td>\n",
              "      <td>F</td>\n",
              "      <td>0-17</td>\n",
              "      <td>10</td>\n",
              "      <td>A</td>\n",
              "      <td>2</td>\n",
              "      <td>0</td>\n",
              "      <td>12</td>\n",
              "      <td>1422</td>\n",
              "    </tr>\n",
              "    <tr>\n",
              "      <th>3</th>\n",
              "      <td>1000001</td>\n",
              "      <td>P00085442</td>\n",
              "      <td>F</td>\n",
              "      <td>0-17</td>\n",
              "      <td>10</td>\n",
              "      <td>A</td>\n",
              "      <td>2</td>\n",
              "      <td>0</td>\n",
              "      <td>12</td>\n",
              "      <td>1057</td>\n",
              "    </tr>\n",
              "    <tr>\n",
              "      <th>4</th>\n",
              "      <td>1000002</td>\n",
              "      <td>P00285442</td>\n",
              "      <td>M</td>\n",
              "      <td>55+</td>\n",
              "      <td>16</td>\n",
              "      <td>C</td>\n",
              "      <td>4+</td>\n",
              "      <td>0</td>\n",
              "      <td>8</td>\n",
              "      <td>7969</td>\n",
              "    </tr>\n",
              "  </tbody>\n",
              "</table>\n",
              "</div>"
            ],
            "text/plain": [
              "   User_ID Product_ID Gender   Age  Occupation City_Category  \\\n",
              "0  1000001  P00069042      F  0-17          10             A   \n",
              "1  1000001  P00248942      F  0-17          10             A   \n",
              "2  1000001  P00087842      F  0-17          10             A   \n",
              "3  1000001  P00085442      F  0-17          10             A   \n",
              "4  1000002  P00285442      M   55+          16             C   \n",
              "\n",
              "  Stay_In_Current_City_Years  Marital_Status  Product_Category  Purchase  \n",
              "0                          2               0                 3      8370  \n",
              "1                          2               0                 1     15200  \n",
              "2                          2               0                12      1422  \n",
              "3                          2               0                12      1057  \n",
              "4                         4+               0                 8      7969  "
            ]
          },
          "execution_count": 52,
          "metadata": {},
          "output_type": "execute_result"
        }
      ],
      "source": [
        "df.head()"
      ]
    },
    {
      "cell_type": "code",
      "execution_count": null,
      "id": "d6505d51-9865-4332-8dcc-0485c20ece3e",
      "metadata": {
        "id": "d6505d51-9865-4332-8dcc-0485c20ece3e",
        "outputId": "6fcee722-e03d-45ac-c0b8-6ce83bc4462a"
      },
      "outputs": [
        {
          "data": {
            "text/html": [
              "<div>\n",
              "<style scoped>\n",
              "    .dataframe tbody tr th:only-of-type {\n",
              "        vertical-align: middle;\n",
              "    }\n",
              "\n",
              "    .dataframe tbody tr th {\n",
              "        vertical-align: top;\n",
              "    }\n",
              "\n",
              "    .dataframe thead th {\n",
              "        text-align: right;\n",
              "    }\n",
              "</style>\n",
              "<table border=\"1\" class=\"dataframe\">\n",
              "  <thead>\n",
              "    <tr style=\"text-align: right;\">\n",
              "      <th></th>\n",
              "      <th></th>\n",
              "      <th>Purchase</th>\n",
              "    </tr>\n",
              "    <tr>\n",
              "      <th>User_ID</th>\n",
              "      <th>Gender</th>\n",
              "      <th></th>\n",
              "    </tr>\n",
              "  </thead>\n",
              "  <tbody>\n",
              "    <tr>\n",
              "      <th>1000001</th>\n",
              "      <th>F</th>\n",
              "      <td>334093</td>\n",
              "    </tr>\n",
              "    <tr>\n",
              "      <th>1000002</th>\n",
              "      <th>M</th>\n",
              "      <td>810472</td>\n",
              "    </tr>\n",
              "    <tr>\n",
              "      <th>1000003</th>\n",
              "      <th>M</th>\n",
              "      <td>341635</td>\n",
              "    </tr>\n",
              "    <tr>\n",
              "      <th>1000004</th>\n",
              "      <th>M</th>\n",
              "      <td>206468</td>\n",
              "    </tr>\n",
              "    <tr>\n",
              "      <th>1000005</th>\n",
              "      <th>M</th>\n",
              "      <td>821001</td>\n",
              "    </tr>\n",
              "    <tr>\n",
              "      <th>...</th>\n",
              "      <th>...</th>\n",
              "      <td>...</td>\n",
              "    </tr>\n",
              "    <tr>\n",
              "      <th>1006036</th>\n",
              "      <th>F</th>\n",
              "      <td>4116058</td>\n",
              "    </tr>\n",
              "    <tr>\n",
              "      <th>1006037</th>\n",
              "      <th>F</th>\n",
              "      <td>1119538</td>\n",
              "    </tr>\n",
              "    <tr>\n",
              "      <th>1006038</th>\n",
              "      <th>F</th>\n",
              "      <td>90034</td>\n",
              "    </tr>\n",
              "    <tr>\n",
              "      <th>1006039</th>\n",
              "      <th>F</th>\n",
              "      <td>590319</td>\n",
              "    </tr>\n",
              "    <tr>\n",
              "      <th>1006040</th>\n",
              "      <th>M</th>\n",
              "      <td>1653299</td>\n",
              "    </tr>\n",
              "  </tbody>\n",
              "</table>\n",
              "<p>5891 rows × 1 columns</p>\n",
              "</div>"
            ],
            "text/plain": [
              "                Purchase\n",
              "User_ID Gender          \n",
              "1000001 F         334093\n",
              "1000002 M         810472\n",
              "1000003 M         341635\n",
              "1000004 M         206468\n",
              "1000005 M         821001\n",
              "...                  ...\n",
              "1006036 F        4116058\n",
              "1006037 F        1119538\n",
              "1006038 F          90034\n",
              "1006039 F         590319\n",
              "1006040 M        1653299\n",
              "\n",
              "[5891 rows x 1 columns]"
            ]
          },
          "execution_count": 53,
          "metadata": {},
          "output_type": "execute_result"
        }
      ],
      "source": [
        "df_gender = df.groupby(['User_ID','Gender'])[['Purchase']].sum()\n",
        "df_gender"
      ]
    },
    {
      "cell_type": "code",
      "execution_count": null,
      "id": "fb7b4a88-6b00-4aa9-8f83-78dce9e55d48",
      "metadata": {
        "id": "fb7b4a88-6b00-4aa9-8f83-78dce9e55d48"
      },
      "outputs": [],
      "source": [
        "df_gender = df_gender.reset_index()"
      ]
    },
    {
      "cell_type": "code",
      "execution_count": null,
      "id": "a61a6505-4a5e-4ef8-9320-e002694b7c5d",
      "metadata": {
        "id": "a61a6505-4a5e-4ef8-9320-e002694b7c5d",
        "outputId": "6025b9c3-4d2b-46b0-9e44-7929a666ef46"
      },
      "outputs": [
        {
          "data": {
            "text/plain": [
              "Gender\n",
              "M    4225\n",
              "F    1666\n",
              "Name: count, dtype: int64"
            ]
          },
          "execution_count": 55,
          "metadata": {},
          "output_type": "execute_result"
        }
      ],
      "source": [
        "df_gender['Gender'].value_counts()"
      ]
    },
    {
      "cell_type": "code",
      "execution_count": null,
      "id": "b7531aed-1f54-4e3c-a3f9-29020756ef34",
      "metadata": {
        "id": "b7531aed-1f54-4e3c-a3f9-29020756ef34",
        "outputId": "3fb5dc62-19ee-435e-bd39-7b7877b05128"
      },
      "outputs": [
        {
          "data": {
            "text/plain": [
              "Text(0.5, 1.0, 'Male avg spend')"
            ]
          },
          "execution_count": 56,
          "metadata": {},
          "output_type": "execute_result"
        },
        {
          "data": {
            "image/png": "[encoded data removed]",
            "text/plain": [
              "<Figure size 1600x500 with 2 Axes>"
            ]
          },
          "metadata": {},
          "output_type": "display_data"
        }
      ],
      "source": [
        "fig, axs = plt.subplots(nrows = 1, ncols=2,figsize=(16,5))\n",
        "\n",
        "sns.histplot(data=df_gender[df_gender['Gender']=='F']['Purchase'], ax=axs[0]).set_title(\"Female avg spend\")\n",
        "sns.histplot(data=df_gender[df_gender['Gender']=='M']['Purchase'], ax=axs[1]).set_title(\"Male avg spend\")"
      ]
    },
    {
      "cell_type": "markdown",
      "id": "9aedddee-f8f9-4251-97ba-292b2535b44b",
      "metadata": {
        "id": "9aedddee-f8f9-4251-97ba-292b2535b44b"
      },
      "source": [
        "#### Observations\n",
        "* Avg spend by male customers is much higher than femal customers"
      ]
    },
    {
      "cell_type": "code",
      "execution_count": null,
      "id": "105e8d98-fb6b-4852-aee9-fdc6b47bb665",
      "metadata": {
        "id": "105e8d98-fb6b-4852-aee9-fdc6b47bb665",
        "outputId": "5bfcc544-5561-4f2f-dadb-0551b6851e5f"
      },
      "outputs": [
        {
          "data": {
            "text/plain": [
              "Gender\n",
              "F    712024.39\n",
              "M    925344.40\n",
              "Name: Purchase, dtype: float64"
            ]
          },
          "execution_count": 57,
          "metadata": {},
          "output_type": "execute_result"
        }
      ],
      "source": [
        "df_gender.groupby(['Gender'])['Purchase'].mean().round(2)"
      ]
    },
    {
      "cell_type": "markdown",
      "id": "10238ce0-4040-4447-9bb8-5972627fa2f7",
      "metadata": {
        "id": "10238ce0-4040-4447-9bb8-5972627fa2f7"
      },
      "source": [
        "* Mean of purchase amount for Male gender is higher than Female."
      ]
    },
    {
      "cell_type": "code",
      "execution_count": null,
      "id": "34d98588-7c7f-41d1-8c5a-815bdb3af043",
      "metadata": {
        "id": "34d98588-7c7f-41d1-8c5a-815bdb3af043",
        "outputId": "f68caf8d-3fab-4288-f719-05f86bc9837e"
      },
      "outputs": [
        {
          "data": {
            "text/plain": [
              "Gender\n",
              "F    1186232642\n",
              "M    3909580100\n",
              "Name: Purchase, dtype: int64"
            ]
          },
          "execution_count": 58,
          "metadata": {},
          "output_type": "execute_result"
        }
      ],
      "source": [
        "df_gender.groupby(['Gender'])['Purchase'].sum()"
      ]
    },
    {
      "cell_type": "markdown",
      "id": "63f049ec-49a6-4172-b8a5-aeb078f98089",
      "metadata": {
        "id": "63f049ec-49a6-4172-b8a5-aeb078f98089"
      },
      "source": [
        "* Total purchase by Male customers is almost 3.6 times Female customers"
      ]
    },
    {
      "cell_type": "code",
      "execution_count": null,
      "id": "617b902e-8f1d-46f3-9451-f1f05ee5c1d0",
      "metadata": {
        "id": "617b902e-8f1d-46f3-9451-f1f05ee5c1d0"
      },
      "outputs": [],
      "source": [
        "df_male = df_gender[df_gender['Gender']=='M']\n",
        "df_female = df_gender[df_gender['Gender']=='F']"
      ]
    },
    {
      "cell_type": "code",
      "execution_count": null,
      "id": "2b8f67c1-3def-42ea-8214-15fef2a1dd90",
      "metadata": {
        "id": "2b8f67c1-3def-42ea-8214-15fef2a1dd90"
      },
      "outputs": [],
      "source": [
        "#Finding the sample(sample size=1000) for avg purchase amount for males and females\n",
        "genders = [\"M\", \"F\"]\n",
        "\n",
        "sample_size = 1000\n",
        "\n",
        "num_repitions = 1000\n",
        "male_means = []\n",
        "female_means = []\n",
        "\n",
        "for i in range(num_repitions):\n",
        "    male_mean = df_male.sample(sample_size, replace=True)['Purchase'].mean()\n",
        "    female_mean = df_female.sample(sample_size, replace=True)['Purchase'].mean()\n",
        "\n",
        "    male_means.append(male_mean)\n",
        "    female_means.append(female_mean)"
      ]
    },
    {
      "cell_type": "code",
      "execution_count": null,
      "id": "b2265e4f-7eeb-42c2-8f8c-935bf62e1cd3",
      "metadata": {
        "id": "b2265e4f-7eeb-42c2-8f8c-935bf62e1cd3",
        "outputId": "322eb384-3bf1-45da-8837-7b0b62ee6ca0"
      },
      "outputs": [
        {
          "data": {
            "image/png": "[encoded data removed]",
            "text/plain": [
              "<Figure size 2000x600 with 2 Axes>"
            ]
          },
          "metadata": {},
          "output_type": "display_data"
        }
      ],
      "source": [
        "fig, axis = plt.subplots(nrows=1, ncols=2, figsize=(20, 6))\n",
        "\n",
        "axis[0].hist(male_means, bins=35)\n",
        "axis[1].hist(female_means, bins=35)\n",
        "axis[0].set_title(\"Male distribution of means, Sample size: 1000\")\n",
        "axis[1].set_title(\"Female distribution of means, Sample size: 1000\")\n",
        "\n",
        "plt.show()"
      ]
    },
    {
      "cell_type": "markdown",
      "id": "34738fa9-2063-4c98-aeb9-24dc67ef84f3",
      "metadata": {
        "id": "34738fa9-2063-4c98-aeb9-24dc67ef84f3"
      },
      "source": [
        "#### Calculating 90% confidence interval for sample size 1000:"
      ]
    },
    {
      "cell_type": "code",
      "execution_count": null,
      "id": "a50c71e8-a9fc-4629-ade7-1af30cc2f056",
      "metadata": {
        "id": "a50c71e8-a9fc-4629-ade7-1af30cc2f056",
        "outputId": "fdbe4533-7f2d-4f2a-93b6-93401cd4f75c"
      },
      "outputs": [
        {
          "name": "stdout",
          "output_type": "stream",
          "text": [
            "Population avg spend amount for Male: 925344.40\n",
            "Population avg spend amount for Female: 712024.39\n",
            "\n",
            "Sample avg spend amount for Male: 925464.86\n",
            "Sample avg spend amount for Female: 711127.30\n",
            "\n",
            "Sample std for Male: 32034.41\n",
            "Sample std for Female: 26117.31\n",
            "\n",
            "Sample std error for Male: 1013.02\n",
            "Sample std error for Female: 825.90\n",
            "\n",
            "Male_CI:  [923798.4516203962, 927131.277917604]\n",
            "Female_CI:  [709768.6911200575, 712485.9081479424]\n"
          ]
        }
      ],
      "source": [
        "#Taking the values for z at 90%, 95% and 99% confidence interval as:\n",
        "z90=1.645 #90% Confidence Interval\n",
        "z95=1.960 #95% Confidence Interval\n",
        "z99=2.576 #99% Confidence Interval\n",
        "\n",
        "\n",
        "sample_mean_male = np.mean(male_means)\n",
        "sample_mean_female = np.mean(female_means)\n",
        "\n",
        "sample_std_male = pd.Series(male_means).std()\n",
        "sample_std_female = pd.Series(female_means).std()\n",
        "\n",
        "sample_std_error_male = sample_std_male/np.sqrt(1000)\n",
        "sample_std_error_female = sample_std_female/np.sqrt(1000)\n",
        "\n",
        "print(\"Population avg spend amount for Male: {:.2f}\".format(df_male['Purchase'].mean()))\n",
        "print(\"Population avg spend amount for Female: {:.2f}\\n\".format(df_female['Purchase'].mean()))\n",
        "\n",
        "print(\"Sample avg spend amount for Male: {:.2f}\".format(sample_mean_male))\n",
        "print(\"Sample avg spend amount for Female: {:.2f}\\n\".format(sample_mean_female))\n",
        "\n",
        "print(\"Sample std for Male: {:.2f}\".format(sample_std_male))\n",
        "print(\"Sample std for Female: {:.2f}\\n\".format(sample_std_female))\n",
        "\n",
        "print(\"Sample std error for Male: {:.2f}\".format(sample_std_error_male))\n",
        "print(\"Sample std error for Female: {:.2f}\\n\".format(sample_std_error_female))\n",
        "\n",
        "\n",
        "Upper_Limit_male = sample_mean_male + z90*sample_std_error_male\n",
        "Lower_Limit_male = sample_mean_male - z90*sample_std_error_male\n",
        "\n",
        "Upper_Limit_female = sample_mean_female + z90*sample_std_error_female\n",
        "Lower_Limit_female = sample_mean_female - z90*sample_std_error_female\n",
        "\n",
        "print(\"Male_CI: \",[Lower_Limit_male,Upper_Limit_male])\n",
        "print(\"Female_CI: \",[Lower_Limit_female,Upper_Limit_female])\n"
      ]
    },
    {
      "cell_type": "markdown",
      "id": "c6899ae9-2b9b-447f-b8aa-d0e2b52151ca",
      "metadata": {
        "id": "c6899ae9-2b9b-447f-b8aa-d0e2b52151ca"
      },
      "source": [
        "#### Observation:\n",
        "\n",
        "Now using the Confidence interval at 90%, we can say that:\n",
        "\n",
        "Average amount spend by male customers lie in the range 923155.49 - 926403.45\n",
        "\n",
        "Average amount spend by female customers lie in range 710071.81 - 712692.72"
      ]
    },
    {
      "cell_type": "code",
      "execution_count": null,
      "id": "1e66c6c4-ce67-4301-93af-e5a71af0cafb",
      "metadata": {
        "id": "1e66c6c4-ce67-4301-93af-e5a71af0cafb",
        "outputId": "23d52251-7133-4cf2-c82f-3cbfc72c3bac"
      },
      "outputs": [
        {
          "name": "stdout",
          "output_type": "stream",
          "text": [
            "Population avg spend amount for Male: 925344.40\n",
            "Population avg spend amount for Female: 712024.39\n",
            "\n",
            "Sample avg spend amount for Male: 925464.86\n",
            "Sample avg spend amount for Female: 711127.30\n",
            "\n",
            "Sample std for Male: 32034.41\n",
            "Sample std for Female: 26117.31\n",
            "\n",
            "Sample std error for Male: 1013.02\n",
            "Sample std error for Female: 825.90\n",
            "\n",
            "Male_CI:  [923479.3512302381, 927450.3783077621]\n",
            "Female_CI:  [709508.5320429195, 712746.0672250803]\n"
          ]
        }
      ],
      "source": [
        "#Taking the values for z at 90%, 95% and 99% confidence interval as:\n",
        "z90=1.645 #90% Confidence Interval\n",
        "z95=1.960 #95% Confidence Interval\n",
        "z99=2.576 #99% Confidence Interval\n",
        "\n",
        "\n",
        "sample_mean_male = np.mean(male_means)\n",
        "sample_mean_female = np.mean(female_means)\n",
        "\n",
        "sample_std_male = pd.Series(male_means).std()\n",
        "sample_std_female = pd.Series(female_means).std()\n",
        "\n",
        "sample_std_error_male = sample_std_male/np.sqrt(1000)\n",
        "sample_std_error_female = sample_std_female/np.sqrt(1000)\n",
        "\n",
        "print(\"Population avg spend amount for Male: {:.2f}\".format(df_male['Purchase'].mean()))\n",
        "print(\"Population avg spend amount for Female: {:.2f}\\n\".format(df_female['Purchase'].mean()))\n",
        "\n",
        "print(\"Sample avg spend amount for Male: {:.2f}\".format(sample_mean_male))\n",
        "print(\"Sample avg spend amount for Female: {:.2f}\\n\".format(sample_mean_female))\n",
        "\n",
        "print(\"Sample std for Male: {:.2f}\".format(sample_std_male))\n",
        "print(\"Sample std for Female: {:.2f}\\n\".format(sample_std_female))\n",
        "\n",
        "print(\"Sample std error for Male: {:.2f}\".format(sample_std_error_male))\n",
        "print(\"Sample std error for Female: {:.2f}\\n\".format(sample_std_error_female))\n",
        "\n",
        "\n",
        "Upper_Limit_male = sample_mean_male + z95*sample_std_error_male\n",
        "Lower_Limit_male = sample_mean_male - z95*sample_std_error_male\n",
        "\n",
        "Upper_Limit_female = sample_mean_female + z95*sample_std_error_female\n",
        "Lower_Limit_female = sample_mean_female - z95*sample_std_error_female\n",
        "\n",
        "print(\"Male_CI: \",[Lower_Limit_male,Upper_Limit_male])\n",
        "print(\"Female_CI: \",[Lower_Limit_female,Upper_Limit_female])\n"
      ]
    },
    {
      "cell_type": "markdown",
      "id": "33eb2ae6-9abb-42d8-baed-da604020c637",
      "metadata": {
        "id": "33eb2ae6-9abb-42d8-baed-da604020c637"
      },
      "source": [
        "#### Observation:\n",
        "Now using the Confidence interval at 95%, we can say that:\n",
        "\n",
        "Average amount spend by male customers lie in the range 922844.52 - 926714.42\n",
        "\n",
        "Average amount spend by female customers lie in range 709820.87 - 712943.66"
      ]
    },
    {
      "cell_type": "code",
      "execution_count": null,
      "id": "ad546b6b-52c5-4a49-aaad-03a23d1e0218",
      "metadata": {
        "id": "ad546b6b-52c5-4a49-aaad-03a23d1e0218",
        "outputId": "455d699e-35e5-46d9-8f86-63fea5101b1d"
      },
      "outputs": [
        {
          "name": "stdout",
          "output_type": "stream",
          "text": [
            "Population avg spend amount for Male: 925344.40\n",
            "Population avg spend amount for Female: 712024.39\n",
            "\n",
            "Sample avg spend amount for Male: 925464.86\n",
            "Sample avg spend amount for Female: 711127.30\n",
            "\n",
            "Sample std for Male: 32034.41\n",
            "Sample std for Female: 26117.31\n",
            "\n",
            "Sample std error for Male: 1013.02\n",
            "Sample std error for Female: 825.90\n",
            "\n",
            "Male_CI:  [922855.3326894843, 928074.3968485158]\n",
            "Female_CI:  [708999.7765142943, 713254.8227537055]\n"
          ]
        }
      ],
      "source": [
        "#Taking the values for z at 90%, 95% and 99% confidence interval as:\n",
        "z90=1.645 #90% Confidence Interval\n",
        "z95=1.960 #95% Confidence Interval\n",
        "z99=2.576 #99% Confidence Interval\n",
        "\n",
        "\n",
        "sample_mean_male = np.mean(male_means)\n",
        "sample_mean_female = np.mean(female_means)\n",
        "\n",
        "sample_std_male = pd.Series(male_means).std()\n",
        "sample_std_female = pd.Series(female_means).std()\n",
        "\n",
        "sample_std_error_male = sample_std_male/np.sqrt(1000)\n",
        "sample_std_error_female = sample_std_female/np.sqrt(1000)\n",
        "\n",
        "print(\"Population avg spend amount for Male: {:.2f}\".format(df_male['Purchase'].mean()))\n",
        "print(\"Population avg spend amount for Female: {:.2f}\\n\".format(df_female['Purchase'].mean()))\n",
        "\n",
        "print(\"Sample avg spend amount for Male: {:.2f}\".format(sample_mean_male))\n",
        "print(\"Sample avg spend amount for Female: {:.2f}\\n\".format(sample_mean_female))\n",
        "\n",
        "print(\"Sample std for Male: {:.2f}\".format(sample_std_male))\n",
        "print(\"Sample std for Female: {:.2f}\\n\".format(sample_std_female))\n",
        "\n",
        "print(\"Sample std error for Male: {:.2f}\".format(sample_std_error_male))\n",
        "print(\"Sample std error for Female: {:.2f}\\n\".format(sample_std_error_female))\n",
        "\n",
        "\n",
        "Upper_Limit_male = sample_mean_male + z99*sample_std_error_male\n",
        "Lower_Limit_male = sample_mean_male - z99*sample_std_error_male\n",
        "\n",
        "Upper_Limit_female = sample_mean_female + z99*sample_std_error_female\n",
        "Lower_Limit_female = sample_mean_female - z99*sample_std_error_female\n",
        "\n",
        "print(\"Male_CI: \",[Lower_Limit_male,Upper_Limit_male])\n",
        "print(\"Female_CI: \",[Lower_Limit_female,Upper_Limit_female])\n"
      ]
    },
    {
      "cell_type": "markdown",
      "id": "86506e44-5e8e-4148-9b28-a62bd6755daf",
      "metadata": {
        "id": "86506e44-5e8e-4148-9b28-a62bd6755daf"
      },
      "source": [
        "#### Observation:\n",
        "Now using the Confidence interval at 95%, we can say that:\n",
        "\n",
        "Average amount spend by male customers lie in the range 922236.39 - 927322.55\n",
        "\n",
        "Average amount spend by female customers lie in range 709330.15 - 713434.38"
      ]
    },
    {
      "cell_type": "code",
      "execution_count": null,
      "id": "bfa32a9d-2cee-4acf-b29d-2c3a6b12a0de",
      "metadata": {
        "id": "bfa32a9d-2cee-4acf-b29d-2c3a6b12a0de",
        "outputId": "b90e1fdf-b623-4019-b686-b235d446fb4d"
      },
      "outputs": [
        {
          "data": {
            "text/html": [
              "<div>\n",
              "<style scoped>\n",
              "    .dataframe tbody tr th:only-of-type {\n",
              "        vertical-align: middle;\n",
              "    }\n",
              "\n",
              "    .dataframe tbody tr th {\n",
              "        vertical-align: top;\n",
              "    }\n",
              "\n",
              "    .dataframe thead th {\n",
              "        text-align: right;\n",
              "    }\n",
              "</style>\n",
              "<table border=\"1\" class=\"dataframe\">\n",
              "  <thead>\n",
              "    <tr style=\"text-align: right;\">\n",
              "      <th></th>\n",
              "      <th>User_ID</th>\n",
              "      <th>Age</th>\n",
              "      <th>Purchase</th>\n",
              "    </tr>\n",
              "  </thead>\n",
              "  <tbody>\n",
              "    <tr>\n",
              "      <th>0</th>\n",
              "      <td>1000001</td>\n",
              "      <td>0-17</td>\n",
              "      <td>334093</td>\n",
              "    </tr>\n",
              "    <tr>\n",
              "      <th>1</th>\n",
              "      <td>1000002</td>\n",
              "      <td>55+</td>\n",
              "      <td>810472</td>\n",
              "    </tr>\n",
              "    <tr>\n",
              "      <th>2</th>\n",
              "      <td>1000003</td>\n",
              "      <td>26-35</td>\n",
              "      <td>341635</td>\n",
              "    </tr>\n",
              "    <tr>\n",
              "      <th>3</th>\n",
              "      <td>1000004</td>\n",
              "      <td>46-50</td>\n",
              "      <td>206468</td>\n",
              "    </tr>\n",
              "    <tr>\n",
              "      <th>4</th>\n",
              "      <td>1000005</td>\n",
              "      <td>26-35</td>\n",
              "      <td>821001</td>\n",
              "    </tr>\n",
              "  </tbody>\n",
              "</table>\n",
              "</div>"
            ],
            "text/plain": [
              "   User_ID    Age  Purchase\n",
              "0  1000001   0-17    334093\n",
              "1  1000002    55+    810472\n",
              "2  1000003  26-35    341635\n",
              "3  1000004  46-50    206468\n",
              "4  1000005  26-35    821001"
            ]
          },
          "execution_count": 65,
          "metadata": {},
          "output_type": "execute_result"
        }
      ],
      "source": [
        "df_age = df.groupby(['User_ID','Age'])[['Purchase']].sum()\n",
        "df_age = df_age.reset_index()\n",
        "df_age.head()"
      ]
    },
    {
      "cell_type": "code",
      "execution_count": null,
      "id": "5adf8f47-65b2-48fc-82c0-bf80b76176eb",
      "metadata": {
        "id": "5adf8f47-65b2-48fc-82c0-bf80b76176eb",
        "outputId": "08b9b48b-b922-4916-e1a1-0fa67cca0500"
      },
      "outputs": [
        {
          "data": {
            "text/plain": [
              "Age\n",
              "26-35    2053\n",
              "36-45    1167\n",
              "18-25    1069\n",
              "46-50     531\n",
              "51-55     481\n",
              "55+       372\n",
              "0-17      218\n",
              "Name: count, dtype: int64"
            ]
          },
          "execution_count": 66,
          "metadata": {},
          "output_type": "execute_result"
        }
      ],
      "source": [
        "df_age['Age'].value_counts()"
      ]
    },
    {
      "cell_type": "code",
      "execution_count": null,
      "id": "5395388f-6052-41e2-aff4-989293b7ce77",
      "metadata": {
        "id": "5395388f-6052-41e2-aff4-989293b7ce77",
        "outputId": "7594d079-3644-4e74-91c9-ed236d2fa68f"
      },
      "outputs": [
        {
          "data": {
            "image/png": "[encoded data removed]",
            "text/plain": [
              "<Figure size 2000x1500 with 6 Axes>"
            ]
          },
          "metadata": {},
          "output_type": "display_data"
        },
        {
          "data": {
            "image/png": "[encoded data removed]",
            "text/plain": [
              "<Figure size 1000x500 with 1 Axes>"
            ]
          },
          "metadata": {},
          "output_type": "display_data"
        }
      ],
      "source": [
        "sample_size = 200\n",
        "num_repitions = 1000\n",
        "\n",
        "all_sample_means = {}\n",
        "\n",
        "age_intervals = ['26-35', '36-45', '18-25', '46-50', '51-55', '55+', '0-17']\n",
        "for i in age_intervals:\n",
        "    all_sample_means[i] = []\n",
        "\n",
        "for i in age_intervals:\n",
        "    for j in range(num_repitions):\n",
        "\n",
        "        mean = df_age[df_age['Age']==i].sample(sample_size, replace=True)['Purchase'].mean()\n",
        "        all_sample_means[i].append(mean)\n",
        "\n",
        "\n",
        "\n",
        "fig, axis = plt.subplots(nrows=3, ncols=2, figsize=(20, 15))\n",
        "\n",
        "sns.histplot(all_sample_means['26-35'],bins=35,ax=axis[0,0])\n",
        "sns.histplot(all_sample_means['36-45'],bins=35,ax=axis[0,1])\n",
        "sns.histplot(all_sample_means['18-25'],bins=35,ax=axis[1,0])\n",
        "sns.histplot(all_sample_means['46-50'],bins=35,ax=axis[1,1])\n",
        "sns.histplot(all_sample_means['51-55'],bins=35,ax=axis[2,0])\n",
        "sns.histplot(all_sample_means['55+'],bins=35,ax=axis[2,1])\n",
        "\n",
        "plt.show()\n",
        "\n",
        "plt.figure(figsize=(10, 5))\n",
        "sns.histplot(all_sample_means['0-17'],bins=35)\n",
        "plt.show()\n",
        "\n"
      ]
    },
    {
      "cell_type": "markdown",
      "id": "fbd231f4-bbbf-48e8-a4c7-f7aa9cc86c4b",
      "metadata": {
        "id": "fbd231f4-bbbf-48e8-a4c7-f7aa9cc86c4b"
      },
      "source": [
        "#### Observations:\n",
        "\n",
        "The means sample seems to be normally distributed for all age groups. Also, we can see the mean of the sample means are closer to the population mean as per central limit theorem."
      ]
    },
    {
      "cell_type": "markdown",
      "id": "c1799003-bd23-4e1f-8fcd-a044c2d57c6e",
      "metadata": {
        "id": "c1799003-bd23-4e1f-8fcd-a044c2d57c6e"
      },
      "source": [
        "#### Calculating 90% confidence interval for avg expenses for different age groups for sample size 200:"
      ]
    },
    {
      "cell_type": "code",
      "execution_count": null,
      "id": "87b445a0-4169-46da-9ccf-a2f90378ad84",
      "metadata": {
        "id": "87b445a0-4169-46da-9ccf-a2f90378ad84",
        "outputId": "4715bcc8-9885-4686-cd85-7d482450d5e8"
      },
      "outputs": [
        {
          "name": "stdout",
          "output_type": "stream",
          "text": [
            "All age group population mean: \n",
            " {'26-35': [989659.3170969313], '36-45': [879665.7103684661], '18-25': [854863.119738073], '46-50': [792548.7815442561], '51-55': [763200.9230769231], '55+': [539697.2446236559], '0-17': [618867.8119266055]}\n",
            "\n",
            "\n",
            "For age 26-35 confidence interval of means: (952206.28, 1027112.35)\n",
            "For age 36-45 confidence interval of means: (832398.89, 926932.53)\n",
            "For age 18-25 confidence interval of means: (810187.65, 899538.59)\n",
            "For age 46-50 confidence interval of means: (726209.00, 858888.57)\n",
            "For age 51-55 confidence interval of means: (703772.36, 822629.48)\n",
            "For age 55+ confidence interval of means: (487032.92, 592361.57)\n",
            "For age 0-17 confidence interval of means: (542320.46, 695415.16)\n"
          ]
        }
      ],
      "source": [
        "z90=1.645 #90% Confidence Interval\n",
        "z95=1.960 #95% Confidence Interval\n",
        "z99=2.576 #99% Confidence Interval\n",
        "\n",
        "sample_size = 200\n",
        "num_repitions = 1000\n",
        "\n",
        "all_population_means={}\n",
        "all_sample_means = {}\n",
        "\n",
        "age_intervals = ['26-35', '36-45', '18-25', '46-50', '51-55', '55+', '0-17']\n",
        "for i in age_intervals:\n",
        "    all_sample_means[i] = []\n",
        "    all_population_means[i] = []\n",
        "    population_mean = df_age[df_age['Age']==i]['Purchase'].mean()\n",
        "    all_population_means[i].append(population_mean)\n",
        "\n",
        "print(\"All age group population mean: \\n\", all_population_means)\n",
        "print(\"\\n\")\n",
        "\n",
        "for i in age_intervals:\n",
        "    for j in range(num_repitions):\n",
        "\n",
        "        mean = df_age[df_age['Age']==i].sample(sample_size, replace=True)['Purchase'].mean()\n",
        "        all_sample_means[i].append(mean)\n",
        "\n",
        "\n",
        "for val in ['26-35', '36-45', '18-25', '46-50', '51-55', '55+', '0-17']:\n",
        "\n",
        "    new_df = df_age[df_age['Age']==val]\n",
        "\n",
        "    std_error = z90*new_df['Purchase'].std()/np.sqrt(len(new_df))\n",
        "    sample_mean = new_df['Purchase'].mean()\n",
        "    lower_lim = sample_mean - std_error\n",
        "    upper_lim = sample_mean + std_error\n",
        "\n",
        "    print(\"For age {} confidence interval of means: ({:.2f}, {:.2f})\".format(val, lower_lim, upper_lim))"
      ]
    },
    {
      "cell_type": "code",
      "execution_count": null,
      "id": "c445a9bf-e2fb-4825-b1b1-9233c6cf492c",
      "metadata": {
        "id": "c445a9bf-e2fb-4825-b1b1-9233c6cf492c",
        "outputId": "afa7d8ab-d437-4b03-f4da-bbb78dd81cb8"
      },
      "outputs": [
        {
          "name": "stdout",
          "output_type": "stream",
          "text": [
            "All age group population mean: \n",
            " {'26-35': [989659.3170969313], '36-45': [879665.7103684661], '18-25': [854863.119738073], '46-50': [792548.7815442561], '51-55': [763200.9230769231], '55+': [539697.2446236559], '0-17': [618867.8119266055]}\n",
            "\n",
            "\n",
            "For age 26-35 confidence interval of means: (945034.42, 1034284.21)\n",
            "For age 36-45 confidence interval of means: (823347.80, 935983.62)\n",
            "For age 18-25 confidence interval of means: (801632.78, 908093.46)\n",
            "For age 46-50 confidence interval of means: (713505.63, 871591.93)\n",
            "For age 51-55 confidence interval of means: (692392.43, 834009.42)\n",
            "For age 55+ confidence interval of means: (476948.26, 602446.23)\n",
            "For age 0-17 confidence interval of means: (527662.46, 710073.17)\n"
          ]
        }
      ],
      "source": [
        "z90=1.645 #90% Confidence Interval\n",
        "z95=1.960 #95% Confidence Interval\n",
        "z99=2.576 #99% Confidence Interval\n",
        "\n",
        "sample_size = 200\n",
        "num_repitions = 1000\n",
        "\n",
        "all_population_means={}\n",
        "all_sample_means = {}\n",
        "\n",
        "age_intervals = ['26-35', '36-45', '18-25', '46-50', '51-55', '55+', '0-17']\n",
        "for i in age_intervals:\n",
        "    all_sample_means[i] = []\n",
        "    all_population_means[i] = []\n",
        "    population_mean = df_age[df_age['Age']==i]['Purchase'].mean()\n",
        "    all_population_means[i].append(population_mean)\n",
        "\n",
        "print(\"All age group population mean: \\n\", all_population_means)\n",
        "print(\"\\n\")\n",
        "\n",
        "for i in age_intervals:\n",
        "    for j in range(num_repitions):\n",
        "\n",
        "        mean = df_age[df_age['Age']==i].sample(sample_size, replace=True)['Purchase'].mean()\n",
        "        all_sample_means[i].append(mean)\n",
        "\n",
        "\n",
        "for val in ['26-35', '36-45', '18-25', '46-50', '51-55', '55+', '0-17']:\n",
        "\n",
        "    new_df = df_age[df_age['Age']==val]\n",
        "\n",
        "    std_error = z95*new_df['Purchase'].std()/np.sqrt(len(new_df))\n",
        "    sample_mean = new_df['Purchase'].mean()\n",
        "    lower_lim = sample_mean - std_error\n",
        "    upper_lim = sample_mean + std_error\n",
        "\n",
        "    print(\"For age {} confidence interval of means: ({:.2f}, {:.2f})\".format(val, lower_lim, upper_lim))"
      ]
    },
    {
      "cell_type": "code",
      "execution_count": null,
      "id": "7bed0706-35c5-4c5b-a7ff-b3c2cf857f46",
      "metadata": {
        "id": "7bed0706-35c5-4c5b-a7ff-b3c2cf857f46",
        "outputId": "763695fc-641d-4c35-8408-3a4bd307f41d"
      },
      "outputs": [
        {
          "name": "stdout",
          "output_type": "stream",
          "text": [
            "All age group population mean: \n",
            " {'26-35': [989659.3170969313], '36-45': [879665.7103684661], '18-25': [854863.119738073], '46-50': [792548.7815442561], '51-55': [763200.9230769231], '55+': [539697.2446236559], '0-17': [618867.8119266055]}\n",
            "\n",
            "\n",
            "For age 26-35 confidence interval of means: (931009.46, 1048309.18)\n",
            "For age 36-45 confidence interval of means: (805647.89, 953683.53)\n",
            "For age 18-25 confidence interval of means: (784903.24, 924823.00)\n",
            "For age 46-50 confidence interval of means: (688663.50, 896434.06)\n",
            "For age 51-55 confidence interval of means: (670138.33, 856263.52)\n",
            "For age 55+ confidence interval of means: (457227.15, 622167.34)\n",
            "For age 0-17 confidence interval of means: (498997.92, 738737.71)\n"
          ]
        }
      ],
      "source": [
        "z90=1.645 #90% Confidence Interval\n",
        "z95=1.960 #95% Confidence Interval\n",
        "z99=2.576 #99% Confidence Interval\n",
        "\n",
        "sample_size = 200\n",
        "num_repitions = 1000\n",
        "\n",
        "all_population_means={}\n",
        "all_sample_means = {}\n",
        "\n",
        "age_intervals = ['26-35', '36-45', '18-25', '46-50', '51-55', '55+', '0-17']\n",
        "for i in age_intervals:\n",
        "    all_sample_means[i] = []\n",
        "    all_population_means[i] = []\n",
        "    population_mean = df_age[df_age['Age']==i]['Purchase'].mean()\n",
        "    all_population_means[i].append(population_mean)\n",
        "\n",
        "print(\"All age group population mean: \\n\", all_population_means)\n",
        "print(\"\\n\")\n",
        "\n",
        "for i in age_intervals:\n",
        "    for j in range(num_repitions):\n",
        "\n",
        "        mean = df_age[df_age['Age']==i].sample(sample_size, replace=True)['Purchase'].mean()\n",
        "        all_sample_means[i].append(mean)\n",
        "\n",
        "\n",
        "for val in ['26-35', '36-45', '18-25', '46-50', '51-55', '55+', '0-17']:\n",
        "\n",
        "    new_df = df_age[df_age['Age']==val]\n",
        "\n",
        "    std_error = z99*new_df['Purchase'].std()/np.sqrt(len(new_df))\n",
        "    sample_mean = new_df['Purchase'].mean()\n",
        "    lower_lim = sample_mean - std_error\n",
        "    upper_lim = sample_mean + std_error\n",
        "\n",
        "    print(\"For age {} confidence interval of means: ({:.2f}, {:.2f})\".format(val, lower_lim, upper_lim))"
      ]
    },
    {
      "cell_type": "markdown",
      "id": "a2f30768-28e8-4645-bfbc-a033ff45e9a2",
      "metadata": {
        "id": "a2f30768-28e8-4645-bfbc-a033ff45e9a2"
      },
      "source": [
        "### Recommendations:\n",
        "\n",
        "    1. Men spent more money than women, company can focus on retaining the male customers and getting more male customers.\n",
        "    \n",
        "    2. Product_Category - 1, 5, 8 have highest purchasing frequency. it means these are the products in these categories are in more demand. Company can focus on selling more of these products.\n",
        "    \n",
        "    3. Unmarried customers spend more money than married customers, So company should focus on acquisition of Unmarried customers.\n",
        "    \n",
        "    4. Customers in the age 26-35 spend more money than the others, So company should focus on acquisition of customers who are in the age 26-35.\n",
        "    \n",
        "    5. We have more customers aged 26-35 in the city category B and A, company can focus more on these customers for these cities to increase the business.\n",
        "    \n",
        "    6. Male customers living in City_Category C spend more money than other male customers living in B or C, Selling more products in the City_Category C will help the company increase the revenue.\n",
        "    \n",
        "    7. Some of the Product category like 19,20,13 have very less purchase. Company can think of dropping it.\n",
        "    \n",
        "    8. The top 10 users who have purchased more company should give more offers and discounts so that they can be retained and can be helpful for companies business.\n",
        "    \n",
        "    9. The occupation which are contributing more company can think of offering credit cards or other benefits to those customers by liasing with some financial partners to increase the sales.\n",
        "    \n",
        "    10. The top products should be given focus in order to maintain the quality in order to further increase the sales of those products.\n",
        "    \n",
        "    11. People who are staying in city for an year have contributed to 35% of the total purchase amount. Company can focus on such customer base who are neither too old nor too new residents in the city.\n",
        "    \n",
        "    12. We have highest frequency of purchase order between 5k and 10k, company can focus more on these mid range products to increase the sales."
      ]
    },
    {
      "cell_type": "markdown",
      "id": "6bfe94b7-cac1-4053-b9f8-deb617b2670d",
      "metadata": {
        "id": "6bfe94b7-cac1-4053-b9f8-deb617b2670d"
      },
      "source": [
        "### Question:\n",
        "\n",
        "    1.Are women spending more money per transaction than men? Why or Why not?\n",
        "    \n",
        "    Ans: No. CI's of male and female do not overlap and upper limits of female purchase CI are lesser than lower limits of male purchase CI. This proves that men usually spend more than women (NOTE: as per data 77% contibutions are from men and only 23% purchases are from women).\n",
        "    \n",
        "    The reason for less purchase by women could have several factors:\n",
        "\n",
        "      Males might be doing the purchase for females.\n",
        "      Salary can be a factor in less purchase.\n",
        "      We also need to see whether male-based products were sold more than women-based products to clearly identify difference in spending pattern.\n",
        "      If the female based products quality/quantity needs to be improved for women purchasing.\n",
        "    \n",
        "    2. Confidence intervals and distribution of the mean of the expenses by female and male customers.\n",
        "    \n",
        "    At 99% Confidence Interval with sample size 1000\n",
        "    \n",
        "    Average amount spend by male customers lie in the range 9,22,011.28 - 9,27,154.61\n",
        "\n",
        "    Average amount spend by female customers lie in range 7,09,678.88 - 7,13,811.31\n",
        "    \n",
        "    \n",
        "    3. Are confidence intervals of average male and female spending overlapping? How can Walmart leverage this conclusion to make changes or improvements?\n",
        "    \n",
        "    Ans: No. Confidence intervals of average male and female spending are not overlapping. This trend can be changed via introducing female centric marketing strategies by Walmart so that more female customers are attracted to increase female purchases to achieve comparable statistics close to 50%.\n",
        "    \n",
        "    4. Results when the same activity is performed for Married vs Unmarried\n",
        "    \n",
        "    At 99% Confidence Interval with sample size 1000\n",
        "    \n",
        "    Average amount spend by married customers lie in the range:  [841059.6309378392, 845078.140167503]\n",
        "    Average amount spend by unmarried customers lie in the range:  [879093.3492016713, 884078.6782803286]\n",
        "    \n",
        "    5. Results when the same activity is performed for Age\n",
        "    \n",
        "    At 99% Confidence Interval with sample size 200\n",
        "    \n",
        "    For age 26-35 confidence interval of means: (931009.46,1048309.18)\n",
        "    For age 36-45 confidence interval of means: (805647.89, 953683.53)\n",
        "    For age 18-25 confidence interval of means: (784903.24, 924823.00)\n",
        "    For age 46-50 confidence interval of means: (688663.50, 896434.06)\n",
        "    For age 51-55 confidence interval of means: (670138.33, 856263.52)\n",
        "    For age 55+ confidence interval of means: (457227.15, 622167.34)\n",
        "    For age 0-17 confidence interval of means: (498997.92, 738737.71)\n",
        "\n",
        "    "
      ]
    },
    {
      "cell_type": "code",
      "execution_count": null,
      "id": "d462f82f-7843-4086-9781-a87b22942fd6",
      "metadata": {
        "id": "d462f82f-7843-4086-9781-a87b22942fd6"
      },
      "outputs": [],
      "source": []
    }
  ],
  "metadata": {
    "kernelspec": {
      "display_name": "Python 3 (ipykernel)",
      "language": "python",
      "name": "python3"
    },
    "language_info": {
      "codemirror_mode": {
        "name": "ipython",
        "version": 3
      },
      "file_extension": ".py",
      "mimetype": "text/x-python",
      "name": "python",
      "nbconvert_exporter": "python",
      "pygments_lexer": "ipython3",
      "version": "3.12.0"
    },
    "colab": {
      "provenance": [],
      "include_colab_link": true
    }
  },
  "nbformat": 4,
  "nbformat_minor": 5
}